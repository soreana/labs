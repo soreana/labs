{
 "cells": [
  {
   "cell_type": "markdown",
   "metadata": {},
   "source": [
    "# This module inspired by  [compgeom](http://compgeom.com/~piyush/teach/py15/html5/templates/index.html#/slide0000)\n",
    "\n",
    "# Python numeric operations"
   ]
  },
  {
   "cell_type": "code",
   "execution_count": null,
   "metadata": {},
   "outputs": [],
   "source": [
    "2 ** 8  # Exponentiation\n",
    "9 % 2   # Yields the remainder \n",
    "1 << 8  # Bit shift operator\n",
    "8 >> 1  # Bit right operator\n",
    "10 & 14 # Bitwise and\n",
    "1 | 14  # Bitwise or\n",
    "1 ^ 3   # Bitwise xor\n",
    "~5      # Bitwise not --> ~x == -x -1\n",
    "int(1.1)# Convert input to integer\n",
    "abs(-1) # Absolute value of input\n",
    "str(9)  # Convert to string\n",
    "repr(9) # Same as str for ints\n",
    "\n",
    "print (2.4/5)\n",
    "print (2.4//5)"
   ]
  },
  {
   "cell_type": "markdown",
   "metadata": {},
   "source": [
    "# Type conversion"
   ]
  },
  {
   "cell_type": "code",
   "execution_count": null,
   "metadata": {},
   "outputs": [],
   "source": [
    "int('64'), int('100', 8), int('40', 16), int('1000000',2), oct(64), hex(64), bin(64) ,ord('A') ,chr(65)"
   ]
  },
  {
   "cell_type": "markdown",
   "metadata": {},
   "source": [
    "# Math package"
   ]
  },
  {
   "cell_type": "code",
   "execution_count": null,
   "metadata": {},
   "outputs": [],
   "source": [
    "muscle, brainz, major, speed = 8e-1, 8e1, 2e+6, 100.01\n",
    "math.sqrt(muscle), math.log(muscle), math.sin(muscle)\n",
    "\n",
    "round(1.5), math.floor(1.5)\n",
    "\n",
    "math.trunc(1.5) # Integer output\n",
    "min(1.0,3.0), max(1.0,2.0,3.0,4.0) # Sequence Operations"
   ]
  },
  {
   "cell_type": "markdown",
   "metadata": {},
   "source": [
    "# Strings Operations"
   ]
  },
  {
   "cell_type": "code",
   "execution_count": null,
   "metadata": {},
   "outputs": [],
   "source": [
    "print(r\"C:\\new\\test.txt\") # r - raw strings: Exactly as specified.\n",
    "multiline_string = '''\n",
    "Q: how many programmers does it take to change a light bulb?\n",
    "\n",
    "A: none, that's a hardware problem\n",
    "'''\n",
    "\n",
    "# S[start:end:step] -- Extract all items in S from offset start throgh end - by step.\n",
    "fruit = \"orange\"\n",
    "fruit[::2], fruit[::-1] , fruit[4:1:-1]\n",
    "\n",
    "# The method join() returns a string in which the string elements of sequence have been joined\n",
    "# by str separator.\n",
    "\n",
    "','.join(fruit)\n",
    "\n",
    "\n",
    "'a' in 'banana' # Membership Test\n",
    "\n",
    "# S.center(width [, fillchar] ) -- Return S centered in a string of length width.\n",
    "# Padding is done using the specified fill character (default is a space)\n",
    "S = \"OCZ, 66.0, 23.1, GLD\"\n",
    "print( S.center(40))\n",
    "\n",
    "# S.ljust(width[, fillchar]) -- Return S left-justified in a string of length width.\n",
    "# Padding is done using the specified fill character (default is a space).\n",
    "print(S.rjust(40))\n",
    "\n",
    "# S.split([sep [,maxsplit]]) -- Return a “list” of the words in the string S,\n",
    "# using sep as the delimiter string.\n",
    "S.split()"
   ]
  },
  {
   "cell_type": "code",
   "execution_count": null,
   "metadata": {},
   "outputs": [],
   "source": []
  }
 ],
 "metadata": {
  "kernelspec": {
   "display_name": "Python 2",
   "language": "python",
   "name": "python2"
  },
  "language_info": {
   "codemirror_mode": {
    "name": "ipython",
    "version": 2
   },
   "file_extension": ".py",
   "mimetype": "text/x-python",
   "name": "python",
   "nbconvert_exporter": "python",
   "pygments_lexer": "ipython2",
   "version": "2.7.15"
  }
 },
 "nbformat": 4,
 "nbformat_minor": 2
}
