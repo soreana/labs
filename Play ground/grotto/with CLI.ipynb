{
 "cells": [
  {
   "cell_type": "code",
   "execution_count": 1,
   "metadata": {},
   "outputs": [
    {
     "name": "stdin",
     "output_type": "stream",
     "text": [
      "mininet>  h1 ping h2 -c 5\n"
     ]
    },
    {
     "name": "stderr",
     "output_type": "stream",
     "text": [
      "PING 10.0.0.2 (10.0.0.2) 56(84) bytes of data.\n",
      "64 bytes from 10.0.0.2: icmp_seq=1 ttl=64 time=130 ms\n",
      "64 bytes from 10.0.0.2: icmp_seq=2 ttl=64 time=40.8 ms\n",
      "64 bytes from 10.0.0.2: icmp_seq=3 ttl=64 time=40.2 ms\n",
      "64 bytes from 10.0.0.2: icmp_seq=4 ttl=64 time=40.2 ms\n",
      "64 bytes from 10.0.0.2: icmp_seq=5 ttl=64 time=40.2 ms\n",
      "\n",
      "--- 10.0.0.2 ping statistics ---\n",
      "5 packets transmitted, 5 received, 0% packet loss, time 4003ms\n",
      "rtt min/avg/max/mdev = 40.202/58.345/130.186/35.921 ms\n"
     ]
    },
    {
     "name": "stdin",
     "output_type": "stream",
     "text": [
      "mininet>  exit\n"
     ]
    }
   ],
   "source": [
    "from mininet.net import Mininet\n",
    "from mininet.topo import Topo\n",
    "from mininet.link import TCLink  # So we can rate limit links\n",
    "from mininet.cli import CLI  # So we can bring up the Mininet CLI\n",
    "topo = Topo()  # Create an empty topology\n",
    "topo.addSwitch(\"s1\")  # Add switches and hosts to the topology\n",
    "topo.addSwitch(\"s2\")\n",
    "topo.addHost(\"h1\")\n",
    "topo.addHost(\"h2\")\n",
    "topo.addHost(\"h3\")\n",
    "# Wire the switches and hosts together, links now have bandwidth and delay limits\n",
    "topo.addLink(\"h1\", \"s1\", bw=20.0, delay='10ms', use_htb=True)\n",
    "topo.addLink(\"h2\", \"s1\", bw=25.0, delay='10ms', use_htb=True)\n",
    "topo.addLink(\"s1\", \"s2\", bw=11.0, delay='40ms', use_htb=True)\n",
    "topo.addLink(\"h3\", \"s2\", bw=15.0, delay='7ms', use_htb=True)\n",
    "net = Mininet(topo=topo, link=TCLink)\n",
    "net.start()\n",
    "CLI(net)  # Bring up the mininet CLI\n",
    "net.stop()"
   ]
  },
  {
   "cell_type": "code",
   "execution_count": null,
   "metadata": {},
   "outputs": [],
   "source": []
  },
  {
   "cell_type": "code",
   "execution_count": null,
   "metadata": {},
   "outputs": [],
   "source": []
  }
 ],
 "metadata": {
  "kernelspec": {
   "display_name": "Python 2",
   "language": "python",
   "name": "python2"
  },
  "language_info": {
   "codemirror_mode": {
    "name": "ipython",
    "version": 2
   },
   "file_extension": ".py",
   "mimetype": "text/x-python",
   "name": "python",
   "nbconvert_exporter": "python",
   "pygments_lexer": "ipython2",
   "version": "2.7.15"
  }
 },
 "nbformat": 4,
 "nbformat_minor": 2
}
