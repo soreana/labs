{
 "cells": [
  {
   "cell_type": "code",
   "execution_count": 1,
   "metadata": {},
   "outputs": [
    {
     "name": "stderr",
     "output_type": "stream",
     "text": [
      "*** Ping: testing ping reachability\n",
      "h1 -> h2 \n",
      "h2 -> h1 \n",
      "*** Results: 0% dropped (2/2 received)\n",
      "*** Iperf: testing TCP bandwidth between h1 and h2 \n",
      "*** Results: ['21.4 Gbits/sec', '21.4 Gbits/sec']\n"
     ]
    }
   ],
   "source": [
    "from mininet.net import Mininet\n",
    "from mininet.topo import Topo\n",
    "topo = Topo()  # Create an empty topology\n",
    "topo.addSwitch(\"s1\")  # Add switches and hosts to the topology\n",
    "topo.addHost(\"h1\")\n",
    "topo.addHost(\"h2\")\n",
    "topo.addLink(\"h1\", \"s1\") # Wire the switches and hosts together with links\n",
    "topo.addLink(\"h2\", \"s1\")\n",
    "net = Mininet(topo)  # Create the Mininet, start it and try some stuff\n",
    "net.start()\n",
    "net.pingAll()\n",
    "net.iperf()\n",
    "net.stop()"
   ]
  },
  {
   "cell_type": "code",
   "execution_count": null,
   "metadata": {},
   "outputs": [],
   "source": []
  }
 ],
 "metadata": {
  "kernelspec": {
   "display_name": "Python 2",
   "language": "python",
   "name": "python2"
  },
  "language_info": {
   "codemirror_mode": {
    "name": "ipython",
    "version": 2
   },
   "file_extension": ".py",
   "mimetype": "text/x-python",
   "name": "python",
   "nbconvert_exporter": "python",
   "pygments_lexer": "ipython2",
   "version": "2.7.15"
  }
 },
 "nbformat": 4,
 "nbformat_minor": 2
}
