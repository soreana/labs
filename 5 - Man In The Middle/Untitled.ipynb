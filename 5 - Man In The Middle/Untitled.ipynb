{
 "cells": [
  {
   "cell_type": "code",
   "execution_count": 1,
   "metadata": {},
   "outputs": [],
   "source": [
    "from IPython.core import magic_arguments\n",
    "from IPython.core.magic import line_magic, cell_magic, line_cell_magic, Magics, magics_class\n",
    " \n",
    "@magics_class\n",
    "class TestMagics(Magics):\n",
    "    @cell_magic\n",
    "    def hello(self, line='', cell=None):\n",
    "        print('hello ' + cell)\n",
    " \n",
    "    @line_magic\n",
    "    def hi(self, line):\n",
    "        print('hi ' + line)\n",
    " \n",
    "ip = get_ipython()\n",
    "ip.register_magics(TestMagics)"
   ]
  },
  {
   "cell_type": "code",
   "execution_count": 3,
   "metadata": {},
   "outputs": [
    {
     "name": "stdout",
     "output_type": "stream",
     "text": [
      "hello sina\n"
     ]
    }
   ],
   "source": [
    "%%hello\n",
    "sina"
   ]
  },
  {
   "cell_type": "code",
   "execution_count": null,
   "metadata": {},
   "outputs": [],
   "source": []
  }
 ],
 "metadata": {
  "kernelspec": {
   "display_name": "Python 2",
   "language": "python",
   "name": "python2"
  },
  "language_info": {
   "codemirror_mode": {
    "name": "ipython",
    "version": 2
   },
   "file_extension": ".py",
   "mimetype": "text/x-python",
   "name": "python",
   "nbconvert_exporter": "python",
   "pygments_lexer": "ipython2",
   "version": "2.7.16"
  }
 },
 "nbformat": 4,
 "nbformat_minor": 2
}
