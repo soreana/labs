{
 "cells": [
  {
   "cell_type": "code",
   "execution_count": 18,
   "metadata": {},
   "outputs": [
    {
     "name": "stdout",
     "output_type": "stream",
     "text": [
      "Password was set.\n"
     ]
    }
   ],
   "source": [
    "#%%writefile set_password.py\n",
    "\n",
    "import sys\n",
    "import requests\n",
    "\n",
    "def post_form(url, value):\n",
    "    r = requests.post(url, data = {'password':value})\n",
    "    print(r.text)\n",
    "\n",
    "if __name__ == \"__main__\":\n",
    "    sys.argv = [\"transfer.py\", \"localhost\", \"1243\"]\n",
    "    if len(sys.argv) != 3:\n",
    "        print( 'Missed argument.\\n usage:`python set_password.py <ip_address> <password>`')\n",
    "        sys.exit(-1)\n",
    "    url = 'http://' + sys.argv[1] + '/'\n",
    "    int(sys.argv[2])\n",
    "    post_form(url, sys.argv[2])"
   ]
  },
  {
   "cell_type": "code",
   "execution_count": null,
   "metadata": {},
   "outputs": [],
   "source": []
  },
  {
   "cell_type": "code",
   "execution_count": null,
   "metadata": {},
   "outputs": [],
   "source": []
  }
 ],
 "metadata": {
  "kernelspec": {
   "display_name": "Python 2",
   "language": "python",
   "name": "python2"
  },
  "language_info": {
   "codemirror_mode": {
    "name": "ipython",
    "version": 2
   },
   "file_extension": ".py",
   "mimetype": "text/x-python",
   "name": "python",
   "nbconvert_exporter": "python",
   "pygments_lexer": "ipython2",
   "version": "2.7.16"
  }
 },
 "nbformat": 4,
 "nbformat_minor": 2
}
