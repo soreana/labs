{
 "cells": [
  {
   "cell_type": "markdown",
   "metadata": {},
   "source": [
    "# transfer.py"
   ]
  },
  {
   "cell_type": "code",
   "execution_count": null,
   "metadata": {},
   "outputs": [],
   "source": [
    "%%writefile transfer.py\n",
    "\n",
    "import sys\n",
    "import requests\n",
    "\n",
    "def post_form(url, amount, password):\n",
    "    r = requests.post(url, data = {'transfer':amount,'password':password})\n",
    "    print(r.text)\n",
    "\n",
    "if __name__ == \"__main__\":\n",
    "    #sys.argv = [\"transfer.py\", \"localhost\", \"1,000$\",\"1234\"]\n",
    "    if len(sys.argv) != 4:\n",
    "        print( 'Missed argument.\\n usage:`python transfer.py <ip_address> <amount> <password>`')\n",
    "        sys.exit(-1)\n",
    "    url = 'http://' + sys.argv[1] + '/'\n",
    "    post_form(url, sys.argv[2], sys.argv[3])"
   ]
  },
  {
   "cell_type": "markdown",
   "metadata": {},
   "source": [
    "# web-server.py"
   ]
  },
  {
   "cell_type": "code",
   "execution_count": null,
   "metadata": {},
   "outputs": [],
   "source": [
    "%%writefile web-server.py\n",
    "\n",
    "from BaseHTTPServer import BaseHTTPRequestHandler, HTTPServer\n",
    "import SocketServer\n",
    "\n",
    "get_res = \"<html><body><h1>Devil Hi!</h1></body></html>\"\n",
    "\n",
    "class S(BaseHTTPRequestHandler):\n",
    "    password = None\n",
    "        \n",
    "    def _set_headers(self):\n",
    "        self.send_response(200)\n",
    "        self.send_header('Content-type', 'text/html')\n",
    "        self.end_headers()\n",
    "        \n",
    "    def do_GET(self):\n",
    "        self._set_headers()\n",
    "        #self.wfile.write(\"<html><body><h1>Devil Hi!</h1></body></html>\")\n",
    "        self.wfile.write(get_res)\n",
    "\n",
    "    def do_HEAD(self):\n",
    "        self._set_headers()\n",
    "        \n",
    "    def extract_pass(self,data):\n",
    "        return data[data.find(\"password=\")+1:]\n",
    "    \n",
    "    def extract_money(self,data):\n",
    "        return data[data.find('=')+1:data.find('&')].replace(\"%2C\",\",\").replace(\"%24\",\"$\")\n",
    "    \n",
    "    def do_POST(self):\n",
    "        content_length = int(self.headers['Content-Length']) # <--- Gets the size of data\n",
    "        post_data = self.rfile.read(content_length) # <--- Gets the data itself\n",
    "        print(\"POST request,\\nPath: %s\\nHeaders:\\n%s\\n\\nBody:\\n%s\\n\",\n",
    "            str(self.path), str(self.headers), post_data.decode('utf-8'))\n",
    "        print(post_data)\n",
    "        self._set_headers()\n",
    "        \n",
    "        if \"transfer\" in post_data:\n",
    "            if S.password is None:\n",
    "                self.wfile.write(\"Error: You should set password\".encode('utf-8'))\n",
    "            elif S.password == self.extract_pass(post_data):\n",
    "                self.wfile.write(\"Transfered {} successfully.\".format(\n",
    "                    self.extract_money(post_data)).encode('utf-8'))\n",
    "            else :\n",
    "                self.wfile.write(\"Error: Password is incorrect.\".encode('utf-8'))\n",
    "        elif \"pass\" in post_data:\n",
    "            S.password = self.extract_pass(post_data)\n",
    "            self.wfile.write(\"Password was set.\".encode('utf-8'))\n",
    "        else:\n",
    "            self.wfile.write(\"Error: Unknown key.\".encode('utf-8'))\n",
    "\n",
    "def run(server_class=HTTPServer, handler_class=S, port=80):\n",
    "    server_address = ('', port)\n",
    "    httpd = server_class(server_address, handler_class)\n",
    "    print 'Starting httpd...'\n",
    "    httpd.serve_forever()\n",
    "        \n",
    "if __name__ == \"__main__\":\n",
    "    run()"
   ]
  },
  {
   "cell_type": "markdown",
   "metadata": {},
   "source": [
    "# set_password.py"
   ]
  },
  {
   "cell_type": "code",
   "execution_count": null,
   "metadata": {},
   "outputs": [],
   "source": [
    "%%writefile set_password.py\n",
    "\n",
    "import sys\n",
    "import requests\n",
    "\n",
    "def post_form(url, value):\n",
    "    r = requests.post(url, data = {'password':value})\n",
    "    print(r.text)\n",
    "\n",
    "if __name__ == \"__main__\":\n",
    "    #sys.argv = [\"transfer.py\", \"localhost\", \"1234\"]\n",
    "    if len(sys.argv) != 3:\n",
    "        print( 'Missed argument.\\n usage:`python set_password.py <ip_address> <password>`')\n",
    "        sys.exit(-1)\n",
    "    url = 'http://' + sys.argv[1] + '/'\n",
    "    int(sys.argv[2])\n",
    "    post_form(url, sys.argv[2])"
   ]
  },
  {
   "cell_type": "code",
   "execution_count": 15,
   "metadata": {},
   "outputs": [
    {
     "name": "stdout",
     "output_type": "stream",
     "text": [
      "Writing test.py\n"
     ]
    }
   ],
   "source": [
    "%%writefile test.py\n",
    "\n",
    "from scapy.all import *\n",
    "from netfilterqueue import NetfilterQueue\n",
    "import codecs\n",
    "\n",
    "\n",
    "similar=\"\" #Search for common bytes in the packets\n",
    "newData = \"\" #Insert new Data\n",
    "\n",
    "def modify(packet):\n",
    "    pkt = packet.get_payload()\n",
    "    pktInfo = IP(pkt)\n",
    "    pktHex = pkt.hex()\n",
    "\n",
    "    #Filter out the packets if they are TCP Protocol and going to destination port 7777. \n",
    "    #The iptable command should already be filtering by destination port 7777\n",
    "    if pktInfo.haslayer(TCP) and pktInfo.getlayer(TCP).dport == 7777 and similar in pktHex:\n",
    "        pktDefault = pktHex[:104]\n",
    "        pktEdit = pktHex[104:]\n",
    "\n",
    "        pktSave = pktEdit[16:]\n",
    "        pktSave = newData + pktSave\n",
    "        pktNew = pktDefault + pktSave\n",
    "\n",
    "        pktBack = bytes.fromhex(pktNew) # Convert back from hex\n",
    "        pktBack = IP(pktBack) \n",
    "        del pktBack[IP].chksum   #After deleting scapy will automatically recalculate the IP and TCP Checksum\n",
    "        del pktBack[TCP].chksum\n",
    "        packet.set_payload(bytes(pktBack)) #Set the payload and send the packet\n",
    "        print(\"Payload sent!\")\n",
    "    packet.accept()\n",
    "\n",
    "nfqueue = NetfilterQueue()\n",
    "nfqueue.bind(0, modify)  #Bind to Queue 0 and intercept traffic passing through queue 0\n",
    "try:\n",
    "    print (\"[*] waiting for data\")\n",
    "    nfqueue.run()\n",
    "except KeyboardInterrupt:\n",
    "    pass\n",
    "\n",
    "nfqueue.unbind()"
   ]
  },
  {
   "cell_type": "code",
   "execution_count": null,
   "metadata": {},
   "outputs": [],
   "source": []
  }
 ],
 "metadata": {
  "kernelspec": {
   "display_name": "Python 2",
   "language": "python",
   "name": "python2"
  },
  "language_info": {
   "codemirror_mode": {
    "name": "ipython",
    "version": 2
   },
   "file_extension": ".py",
   "mimetype": "text/x-python",
   "name": "python",
   "nbconvert_exporter": "python",
   "pygments_lexer": "ipython2",
   "version": "2.7.16"
  }
 },
 "nbformat": 4,
 "nbformat_minor": 2
}
