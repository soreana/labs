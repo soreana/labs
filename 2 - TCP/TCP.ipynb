{
 "cells": [
  {
   "cell_type": "markdown",
   "metadata": {},
   "source": [
    "# BlaBlaBla about TCP :D\n",
    "\n",
    "Some hints:\n",
    "* what is MTU\n",
    "* what is MMS\n",
    "* TCP handshake procedure\n",
    "* TCP keep alive"
   ]
  },
  {
   "cell_type": "markdown",
   "metadata": {},
   "source": [
    "### Exercise One\n",
    "\n",
    "In this exercise we want to examine TCP connection establishment process. Take below steps to see how this process works.\n",
    "1. Run below script and wait untill mininet console show up.\n",
    "2. Open Scapy module in seperate window, and run \"Exercise One, TCP Handshake\" cell to capture TCP Handshake packets.\n",
    "3. Run client.py script to make a tcp connection between h1 and h2 by executing __h1 python client.py__ in mininet console.\n",
    "4. Observe scapy output.\n",
    "5. Run __h1 ifconfig__ and __h2 ifconfig__ in mininet console to see their respective MTU size.\n",
    "\n",
    "#### Lab report\n",
    "\n",
    "* Explain TCP connection establishment and termination using the scapy output.\n",
    "* What were the announced MSS values for the two hosts?\n",
    "* What happens if there is an intermediate network that has an MTU less than the MSS of each host?\n",
    "* See if the DF flag was set in our scapy output. What is this used for ??"
   ]
  },
  {
   "cell_type": "code",
   "execution_count": null,
   "metadata": {},
   "outputs": [
    {
     "name": "stderr",
     "output_type": "stream",
     "text": [
      "*** Error setting resource limits. Mininet's performance may be affected.\n"
     ]
    },
    {
     "name": "stdin",
     "output_type": "stream",
     "text": [
      "mininet>  h1 python client.py\n"
     ]
    },
    {
     "name": "stderr",
     "output_type": "stream",
     "text": [
      "Done.\n"
     ]
    }
   ],
   "source": [
    "from mininet.net import Mininet\n",
    "from mininet.topo import Topo\n",
    "from mininet.link import TCLink  # So we can rate limit links\n",
    "from mininet.cli import CLI  # So we can bring up the Mininet CLI\n",
    "from mininet.clean import cleanup\n",
    "\n",
    "cleanup()\n",
    "\n",
    "topo = Topo()  # Create an empty topology\n",
    "\n",
    "# Add switches and hosts to the topology\n",
    "topo.addSwitch(\"s1\")\n",
    "topo.addHost(\"h1\")\n",
    "topo.addHost(\"h2\")\n",
    "\n",
    "# Wire the switches and hosts together\n",
    "topo.addLink(\"h1\", \"s1\")\n",
    "topo.addLink(\"h2\", \"s1\")\n",
    "\n",
    "net = Mininet(topo=topo, link=TCLink)\n",
    "net.start()\n",
    "\n",
    "# Run TCP server on h2\n",
    "net.get(\"h2\").cmd(\"python server.py &\")\n",
    "\n",
    "CLI(net)  # Bring up the mininet CLI\n",
    "\n",
    "net.stop()"
   ]
  },
  {
   "cell_type": "markdown",
   "metadata": {},
   "source": [
    "### Exercise Two\n",
    "\n",
    "In this exercise we want to see diffrence between TCP and UDP behaviour when a client requests a nonexisting server.\n",
    "\n",
    "1. Run below script and wait untill mininet console show up.\n",
    "  * You may need to shutdown and start kernel.\n",
    "2. Open Scapy module in seperate window, and run __Exercise Two, UDP__ cell to capture UDP and ICMP packets.\n",
    "3. Send one UDP packets to nonexisting server from h1 by executing __h1 echo -n \"hello\" >/dev/udp/10.0.0.2/8000__ in mininet console.\n",
    "4. Observe scapy output.\n",
    "5. Return to Scapy module and run __Exercise Two, TCP__ cell to capture TCP and ICMP packets.\n",
    "6. Send one TCP packets to nonexisting server from h1 by executing __h1 python client.py__ in mininet console. (Ignore error)\n",
    "7. Observe scapy output.\n",
    "\n",
    "#### Lab report\n",
    "\n",
    "* Explain what happened in both the UDP and TCP cases. When a client requests a nonexisting server, how do UDP and TCP handle this request, respectively?"
   ]
  },
  {
   "cell_type": "code",
   "execution_count": null,
   "metadata": {},
   "outputs": [],
   "source": [
    "from mininet.net import Mininet\n",
    "from mininet.topo import Topo\n",
    "from mininet.link import TCLink  # So we can rate limit links\n",
    "from mininet.cli import CLI  # So we can bring up the Mininet CLI\n",
    "from mininet.clean import cleanup\n",
    "\n",
    "cleanup()\n",
    "\n",
    "topo = Topo()  # Create an empty topology\n",
    "\n",
    "# Add switches and hosts to the topology\n",
    "topo.addSwitch(\"s1\")\n",
    "topo.addHost(\"h1\")\n",
    "topo.addHost(\"h2\")\n",
    "\n",
    "# Wire the switches and hosts together\n",
    "topo.addLink(\"h1\", \"s1\")\n",
    "topo.addLink(\"h2\", \"s1\")\n",
    "\n",
    "net = Mininet(topo=topo, link=TCLink)\n",
    "net.start()\n",
    "\n",
    "CLI(net)  # Bring up the mininet CLI\n",
    "\n",
    "net.stop()"
   ]
  },
  {
   "cell_type": "markdown",
   "metadata": {},
   "source": [
    "### Exercise Four\n",
    "\n",
    "While Scapy is running and capturing the packets between h1 and h2, on the remote machine, which acts as the server, execute: sock -i -s 7777.\n",
    "\n",
    "\n",
    "1. Run below script and wait untill mininet console show up.\n",
    "  * You may need to shutdown and start kernel.\n",
    "2. Open Scapy module in seperate window, and run __Exercise Four, Sample One__ cell to capture TCP packets.\n",
    "3. Send __Sixteen__ tcp packets to h2 from h1 by executing __h1 python client.py 16__ in mininet console.\n",
    "4. Observe scapy output.\n",
    "5. Repeate above experiment two more times as described below:\n",
    "    1. Use __Exercise Four, Sample Two__ cell in Scapy module to capture packets.\n",
    "    2. Resend __Sixteen__ tcp packets to h2 from h1 by executing __h1 python client.py 16__.\n",
    "    3. Use __Exercise Four, Sample Three__ cell in Scapy module to capture packets.\n",
    "    4. Resend __Sixteen__ tcp packets to h2 from h1 by executing __h1 python client.py 16__.\n",
    "\n",
    "#### Lab report\n",
    "\n",
    "* Using one of three Scapy outputs, explain the operation of TCP in terms of data segments and their acknowledgements. Does the number of data segments differ from that of their acknowledgements?\n",
    "* Compare all the Scapy outputs you saved. Discuss any differences among them, in terms of data segments and their acknowledgements.\n",
    "* From the Scapy output, how many different TCP flags can you see? Enumerate the flags and explain their meanings.\n",
    "* How many different TCP options can you see? Explain their meanings."
   ]
  },
  {
   "cell_type": "code",
   "execution_count": null,
   "metadata": {},
   "outputs": [
    {
     "name": "stdin",
     "output_type": "stream",
     "text": [
      "mininet>  h1 python client.py 16\n"
     ]
    },
    {
     "name": "stderr",
     "output_type": "stream",
     "text": [
      "Done.\n"
     ]
    },
    {
     "name": "stdin",
     "output_type": "stream",
     "text": [
      "mininet>  h1 python client.py 16\n"
     ]
    },
    {
     "name": "stderr",
     "output_type": "stream",
     "text": [
      "Done.\n"
     ]
    },
    {
     "name": "stdin",
     "output_type": "stream",
     "text": [
      "mininet>  h1 python client.py 16\n"
     ]
    },
    {
     "name": "stderr",
     "output_type": "stream",
     "text": [
      "Done.\n"
     ]
    },
    {
     "name": "stdin",
     "output_type": "stream",
     "text": [
      "mininet>  h1 python client.py 16\n"
     ]
    },
    {
     "name": "stderr",
     "output_type": "stream",
     "text": [
      "Done.\n"
     ]
    },
    {
     "name": "stdin",
     "output_type": "stream",
     "text": [
      "mininet>  h1 python client.py 16\n"
     ]
    },
    {
     "name": "stderr",
     "output_type": "stream",
     "text": [
      "Done.\n"
     ]
    },
    {
     "name": "stdin",
     "output_type": "stream",
     "text": [
      "mininet>  h1 python client.py 16\n"
     ]
    },
    {
     "name": "stderr",
     "output_type": "stream",
     "text": [
      "Done.\n"
     ]
    }
   ],
   "source": [
    "from mininet.net import Mininet\n",
    "from mininet.topo import Topo\n",
    "from mininet.link import TCLink  # So we can rate limit links\n",
    "from mininet.cli import CLI  # So we can bring up the Mininet CLI\n",
    "from mininet.clean import cleanup\n",
    "\n",
    "cleanup()\n",
    "\n",
    "topo = Topo()  # Create an empty topology\n",
    "\n",
    "# Add switches and hosts to the topology\n",
    "topo.addSwitch(\"s1\")\n",
    "topo.addHost(\"h1\")\n",
    "topo.addHost(\"h2\")\n",
    "\n",
    "# Wire the switches and hosts together\n",
    "topo.addLink(\"h1\", \"s1\")\n",
    "topo.addLink(\"h2\", \"s1\")\n",
    "\n",
    "net = Mininet(topo=topo, link=TCLink)\n",
    "net.start()\n",
    "\n",
    "# Run TCP server on h2\n",
    "net.get(\"h2\").cmd(\"python server.py &\")\n",
    "\n",
    "CLI(net)  # Bring up the mininet CLI\n",
    "\n",
    "net.stop()"
   ]
  },
  {
   "cell_type": "markdown",
   "metadata": {},
   "source": [
    "### Exercise Five\n",
    "\n",
    "Open new terminal (press + button in up left corner and select terminal). Execute **sysctl -A | grep keepalive** to display the default values of the TCP kernel parameters that are related to the TCP keepalive timer.\n",
    "\n",
    "#### Lab report\n",
    "\n",
    "* What is the default value of the TCP keepalive timer? What is the maximum number of TCP keepalive probes a host can send?"
   ]
  },
  {
   "cell_type": "markdown",
   "metadata": {},
   "source": [
    "### Exercise Eight\n",
    "\n",
    "Open new terminal (press + button in up left corner and select terminal). Execute __man sysctl__ and use this manual page to answer below questions.\n",
    "\n",
    "#### Lab report\n",
    "\n",
    "* TCP/IP configuration parameters stored in __/proc/sys/net/ipv4__ directory. Choose 5 parameter that you might be interested in and explain their porpose.\n",
    "* Where kernel store its parameters ?\n",
    "* Explain two parameter of sysctl command."
   ]
  },
  {
   "cell_type": "code",
   "execution_count": null,
   "metadata": {},
   "outputs": [],
   "source": []
  }
 ],
 "metadata": {
  "kernelspec": {
   "display_name": "Python 2",
   "language": "python",
   "name": "python2"
  },
  "language_info": {
   "codemirror_mode": {
    "name": "ipython",
    "version": 2
   },
   "file_extension": ".py",
   "mimetype": "text/x-python",
   "name": "python",
   "nbconvert_exporter": "python",
   "pygments_lexer": "ipython2",
   "version": "2.7.16"
  }
 },
 "nbformat": 4,
 "nbformat_minor": 2
}
