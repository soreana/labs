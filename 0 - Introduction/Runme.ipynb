{
 "cells": [
  {
   "cell_type": "markdown",
   "metadata": {},
   "source": [
    "# Introduciton\n",
    "This is first module from introduction to computer network. In this module we start by itroducing some core functionality of jupyter lab, how to run a python code and then focus on network tools we need in upcoming modules like how to capturing packets and run mininet scenario.\n",
    "Let's start with some simple tasks :)\n",
    "\n",
    "### Jupyter lab\n",
    "[JupyterLab](http://jupyterlab.readthedocs.io/en/stable/) is the next-generation user interface for [Project Jupyter](https://jupyter.org) offering\n",
    "all the familiar building blocks of the classic Jupyter Notebook (notebook,\n",
    "terminal, text editor, file browser, rich outputs, etc.) in a flexible and\n",
    "powerful user interface [[1](https://github.com/jupyterlab/jupyterlab)]. Let see what it can do, click on box below (it called **cell** by the way :) ) and run it with run botton above.\n",
    "\n",
    "![Run jupyter](./img/run.png)\n"
   ]
  },
  {
   "cell_type": "code",
   "execution_count": 1,
   "metadata": {},
   "outputs": [
    {
     "name": "stdout",
     "output_type": "stream",
     "text": [
      "Not Hello world stereotype! :D\n"
     ]
    }
   ],
   "source": [
    "# code_cell_1\n",
    "print (\"Not Hello world stereotype! :D\")"
   ]
  },
  {
   "cell_type": "markdown",
   "metadata": {},
   "source": [
    "Notice that magical number next to pereviouse cell.\n",
    "![In number meaning](./img/in_number.png)\n",
    "We want to see how it works. Run below cell."
   ]
  },
  {
   "cell_type": "code",
   "execution_count": 4,
   "metadata": {},
   "outputs": [
    {
     "name": "stdout",
     "output_type": "stream",
     "text": [
      "16\n"
     ]
    }
   ],
   "source": [
    "# code_cell_2\n",
    "print (x)"
   ]
  },
  {
   "cell_type": "markdown",
   "metadata": {},
   "source": [
    "It has error `name 'x' is not defined` because we aren't initialized x. (Notice that `In` number of that cell increased.) Run below cell to initialize x."
   ]
  },
  {
   "cell_type": "code",
   "execution_count": 3,
   "metadata": {},
   "outputs": [],
   "source": [
    "# code_cell_3\n",
    "x = 16"
   ]
  },
  {
   "cell_type": "markdown",
   "metadata": {},
   "source": [
    "re-run cell_2 (some cells have id) to see magic :)"
   ]
  },
  {
   "cell_type": "markdown",
   "metadata": {},
   "source": [
    "### What happened ?\n",
    "\n",
    "Every time you run a cell it execute at the bottom of previousely executed cells. Past execution flow run as follow:\n",
    "\n",
    "```python\n",
    "    # code_cell_1, In [1]\n",
    "    print (\"Not Hello world stereotype! :D\")\n",
    "    \n",
    "    # code_cell_2, In [2] (with error)\n",
    "    print (x)\n",
    "    \n",
    "    # code_cell_3, In [3]\n",
    "    x = 16\n",
    "    \n",
    "    # code_cell_2, In [4] (without error)\n",
    "    print (x)\n",
    "```"
   ]
  },
  {
   "cell_type": "markdown",
   "metadata": {},
   "source": [
    "### How to restart kernel\n",
    "\n",
    "A `kernel` is a program that runs and introspects the user’s code. Jupyter includes a kernel for Python code, and people have written kernels for several other languages. Sometimes it is not responding or crashes. In these case we should re-run kernel. That could be done in two diffrent way.\n",
    "\n",
    "#### Restart botton \n",
    "Click on button shown in below picture to restart kernel.\n",
    "\n",
    "![Restart jupyter kernel](./img/restart_kernel.png)\n",
    "\n",
    "#### Stop and re-run server\n",
    "\n",
    "Take below steps to stop and start your curretly running server.\n",
    "\n",
    "![Shutdown jupyter kernel](./img/shutdown_kernel.png)\n",
    "\n",
    "![Select jupyter kernel](./img/select_kernel.png)"
   ]
  },
  {
   "cell_type": "markdown",
   "metadata": {},
   "source": [
    "### New terminal session\n",
    "\n",
    "In some modules you will asked to run a command on terminal. Take below procedure to start new terminal session.\n",
    "\n",
    "![New launcher](./img/new_launcher.png)\n",
    "\n",
    "![Select Terminal](./img/select_terminal.png)\n",
    "\n",
    "![Terminal Session](./img/terminal_session.png)"
   ]
  },
  {
   "cell_type": "markdown",
   "metadata": {},
   "source": [
    "### More information about Jpyter lab\n",
    "These are all you need to know about jupyter lab to continue this lab. You can find more information about Jupyter lab [here](https://jupyterlab.readthedocs.io/en/stable/getting_started/overview.html)."
   ]
  },
  {
   "cell_type": "code",
   "execution_count": null,
   "metadata": {},
   "outputs": [],
   "source": []
  }
 ],
 "metadata": {
  "kernelspec": {
   "display_name": "Python 2",
   "language": "python",
   "name": "python2"
  },
  "language_info": {
   "codemirror_mode": {
    "name": "ipython",
    "version": 2
   },
   "file_extension": ".py",
   "mimetype": "text/x-python",
   "name": "python",
   "nbconvert_exporter": "python",
   "pygments_lexer": "ipython2",
   "version": "2.7.16"
  }
 },
 "nbformat": 4,
 "nbformat_minor": 2
}
