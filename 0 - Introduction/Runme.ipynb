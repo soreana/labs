{
 "cells": [
  {
   "cell_type": "markdown",
   "metadata": {},
   "source": [
    "# Introduciton\n",
    "This is first module from introduction to computer network series. In this module we represent some core functionality of jupyter lab, and network tools we need in upcoming modules. We will see how codes executes in jupyterlab kernels, how to restart kernel, and introduced some network tools like mininet (to emulate network topologies) and Scapy (to capturing packets).\n",
    "Let's start with some simple tasks :)\n",
    "\n",
    "### Jupyter lab\n",
    "[JupyterLab](http://jupyterlab.readthedocs.io/en/stable/) is The next-generation  web-based user interface for [Project Jupyter](https://jupyter.org) offering\n",
    "all the familiar building blocks of the classic Jupyter Notebook (notebook,\n",
    "terminal, text editor, file browser, rich outputs, etc.) in a flexible and\n",
    "powerful user interface [[1](https://github.com/jupyterlab/jupyterlab)]. Let see what it can do, click on box below (it called **cell** by the way :) ) and run it with above triangle botton.\n",
    "\n",
    "![Run jupyter](./img/run.png)\n"
   ]
  },
  {
   "cell_type": "code",
   "execution_count": null,
   "metadata": {},
   "outputs": [],
   "source": [
    "# code_cell_1\n",
    "print (\"Not Hello world stereotype! :D\")"
   ]
  },
  {
   "cell_type": "markdown",
   "metadata": {},
   "source": [
    "Woohoo! It runs and prints `Not Hello world stereotype! :D`\n",
    "\n",
    "But that's not enough, we need real things not just another hello word, run below cells and see what we can do."
   ]
  },
  {
   "cell_type": "code",
   "execution_count": null,
   "metadata": {},
   "outputs": [],
   "source": [
    "# Python program to print all  \n",
    "# prime number in an interval \n",
    "  \n",
    "start = 11\n",
    "end = 25\n",
    "  \n",
    "for val in range(start, end + 1): \n",
    "   # If num is divisible by any number   \n",
    "   # between 2 and val, it is not prime  \n",
    "   if val > 1: \n",
    "       for n in range(2, val): \n",
    "           if (val % n) == 0: \n",
    "               break\n",
    "       else: \n",
    "           print(val) "
   ]
  },
  {
   "cell_type": "markdown",
   "metadata": {},
   "source": [
    "Previouse cell hard codes `start` and `end`. We can read them in browser."
   ]
  },
  {
   "cell_type": "code",
   "execution_count": null,
   "metadata": {},
   "outputs": [],
   "source": [
    "# Python program to print all  \n",
    "# prime number in an interval \n",
    "  \n",
    "start = input(\"Enter a start: \")\n",
    "end = input(\"Enter a end: \")\n",
    "  \n",
    "for val in range(start, end + 1): \n",
    "   # If num is divisible by any number   \n",
    "   # between 2 and val, it is not prime  \n",
    "   if val > 1: \n",
    "       for n in range(2, val): \n",
    "           if (val % n) == 0: \n",
    "               break\n",
    "       else: \n",
    "           print(val) "
   ]
  },
  {
   "cell_type": "markdown",
   "metadata": {},
   "source": [
    "Why not drawing some charts?"
   ]
  },
  {
   "cell_type": "code",
   "execution_count": null,
   "metadata": {},
   "outputs": [],
   "source": [
    "%matplotlib inline\n",
    "import matplotlib.pyplot as plt; plt.rcdefaults()\n",
    "import numpy as np\n",
    "import matplotlib.pyplot as plt\n",
    " \n",
    "objects = ('Java', 'C', 'C++', 'Python', 'VB .NET', 'C#')\n",
    "y_pos = np.arange(len(objects))\n",
    "performance = [15.035,14.076,8.838,8.166,5.795,3.515]\n",
    " \n",
    "plt.bar(y_pos, performance, align='center', alpha=0.5)\n",
    "plt.xticks(y_pos, objects)\n",
    "plt.ylabel('Usage')\n",
    "plt.title('Programming language usage')\n",
    " \n",
    "plt.show()"
   ]
  },
  {
   "cell_type": "markdown",
   "metadata": {},
   "source": [
    "As You can see we can do whatever we like. Your imagination is your only limitation."
   ]
  },
  {
   "cell_type": "markdown",
   "metadata": {},
   "source": [
    "**But Wait!** Befor jump to next section let see What is this magical number next to cells. Run below cell.\n",
    "![In number meaning](./img/in_number.png)"
   ]
  },
  {
   "cell_type": "code",
   "execution_count": null,
   "metadata": {},
   "outputs": [],
   "source": [
    "# code_cell_2\n",
    "print (x)"
   ]
  },
  {
   "cell_type": "markdown",
   "metadata": {},
   "source": [
    "It has error `name 'x' is not defined` and it is okay because we aren't initialized x yet. (Notice that `In` number of that cell increased.) Run below cell to initialize x."
   ]
  },
  {
   "cell_type": "code",
   "execution_count": null,
   "metadata": {},
   "outputs": [],
   "source": [
    "# code_cell_3\n",
    "x = 16"
   ]
  },
  {
   "cell_type": "markdown",
   "metadata": {},
   "source": [
    "re-run `code_cell_1` to see magic trick :) \n",
    "$\\color{#177245}{\\text{(we gave some cells id to reference them)}}$"
   ]
  },
  {
   "cell_type": "markdown",
   "metadata": {},
   "source": [
    "### What happened ?\n",
    "\n",
    "You see? Every time you run a cell it execute after previousely executed cells. Those execution flows could be interpreted as follow:\n",
    "\n",
    "```python\n",
    "    # code_cell_1, In [1]\n",
    "    print (\"Not Hello world stereotype! :D\")\n",
    "    \n",
    "    # Other cells\n",
    "    \n",
    "    # code_cell_2, In [5] (with error)\n",
    "    print (x)\n",
    "    \n",
    "    # code_cell_3, In [6]\n",
    "    x = 16\n",
    "    \n",
    "    # code_cell_2, In [7] (without error)\n",
    "    print (x)\n",
    "```\n",
    "\n",
    "Enough talk about code execution. Let see other functionalities."
   ]
  },
  {
   "cell_type": "markdown",
   "metadata": {},
   "source": [
    "### How to restart kernel\n",
    "\n",
    "A `kernel` is a program that runs and introspects the user’s code. Jupyter includes a kernel for Python code, and people have written kernels for several other languages. Sometimes it is not responding or crashes. In these case we should re-run kernel. That could be done in two diffrent way.\n",
    "\n",
    "#### **Method one:** Restart botton \n",
    "Click on button shown in below picture to restart kernel.\n",
    "\n",
    "![Restart jupyter kernel](./img/restart_kernel.png)\n",
    "\n",
    "#### **Method two:** Stop and re-run server\n",
    "\n",
    "Take below steps to stop and start your curretly running server.\n",
    "\n",
    "![Shutdown jupyter kernel](./img/shutdown_kernel.png)\n",
    "\n",
    "![Select jupyter kernel](./img/select_kernel.png)"
   ]
  },
  {
   "cell_type": "markdown",
   "metadata": {},
   "source": [
    "### New terminal session\n",
    "\n",
    "In some modules you will asked to run a command on terminal. Take below procedure to start new terminal session. \n",
    "\n",
    "![New launcher](./img/new_launcher.png)\n",
    "\n",
    "![Select Terminal](./img/select_terminal.png)\n",
    "\n",
    "![Terminal Session](./img/terminal_session.png)\n",
    "\n",
    "$\\color{RED}{\\text{Note: If your session don't have auto-complete, first run}}$ `/bin/bash` $\\color{RED}{\\text{command.}}$"
   ]
  },
  {
   "cell_type": "markdown",
   "metadata": {},
   "source": [
    "### More information about Jpyter lab\n",
    "These are all you need to know about jupyter lab to continue this series. You can find more information about Jupyter lab [here](https://jupyterlab.readthedocs.io/en/stable/getting_started/overview.html)."
   ]
  },
  {
   "cell_type": "code",
   "execution_count": null,
   "metadata": {},
   "outputs": [],
   "source": []
  }
 ],
 "metadata": {
  "kernelspec": {
   "display_name": "Python 2",
   "language": "python",
   "name": "python2"
  },
  "language_info": {
   "codemirror_mode": {
    "name": "ipython",
    "version": 2
   },
   "file_extension": ".py",
   "mimetype": "text/x-python",
   "name": "python",
   "nbconvert_exporter": "python",
   "pygments_lexer": "ipython2",
   "version": "2.7.16"
  }
 },
 "nbformat": 4,
 "nbformat_minor": 2
}
