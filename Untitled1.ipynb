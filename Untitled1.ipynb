{
 "cells": [
  {
   "cell_type": "code",
   "execution_count": 1,
   "metadata": {},
   "outputs": [
    {
     "ename": "OSError",
     "evalue": "[Errno 2] No such file or directory",
     "output_type": "error",
     "traceback": [
      "\u001b[0;31m\u001b[0m",
      "\u001b[0;31mOSError\u001b[0mTraceback (most recent call last)",
      "\u001b[0;32m<ipython-input-1-033a44e1c6c4>\u001b[0m in \u001b[0;36m<module>\u001b[0;34m()\u001b[0m\n\u001b[1;32m      1\u001b[0m \u001b[0;32mimport\u001b[0m \u001b[0msubprocess\u001b[0m\u001b[0;34m\u001b[0m\u001b[0m\n\u001b[1;32m      2\u001b[0m \u001b[0mcmd\u001b[0m \u001b[0;34m=\u001b[0m \u001b[0;34m[\u001b[0m\u001b[0;34m'curl'\u001b[0m\u001b[0;34m,\u001b[0m \u001b[0;34m'https://google.com'\u001b[0m\u001b[0;34m]\u001b[0m\u001b[0;34m\u001b[0m\u001b[0m\n\u001b[0;32m----> 3\u001b[0;31m \u001b[0mproc\u001b[0m \u001b[0;34m=\u001b[0m \u001b[0msubprocess\u001b[0m\u001b[0;34m.\u001b[0m\u001b[0mPopen\u001b[0m\u001b[0;34m(\u001b[0m\u001b[0mcmd\u001b[0m\u001b[0;34m,\u001b[0m \u001b[0mstdout\u001b[0m\u001b[0;34m=\u001b[0m\u001b[0msubprocess\u001b[0m\u001b[0;34m.\u001b[0m\u001b[0mPIPE\u001b[0m\u001b[0;34m,\u001b[0m \u001b[0mstderr\u001b[0m\u001b[0;34m=\u001b[0m\u001b[0msubprocess\u001b[0m\u001b[0;34m.\u001b[0m\u001b[0mPIPE\u001b[0m\u001b[0;34m)\u001b[0m\u001b[0;34m\u001b[0m\u001b[0m\n\u001b[0m\u001b[1;32m      4\u001b[0m \u001b[0;34m\u001b[0m\u001b[0m\n\u001b[1;32m      5\u001b[0m \u001b[0mo\u001b[0m\u001b[0;34m,\u001b[0m \u001b[0me\u001b[0m \u001b[0;34m=\u001b[0m \u001b[0mproc\u001b[0m\u001b[0;34m.\u001b[0m\u001b[0mcommunicate\u001b[0m\u001b[0;34m(\u001b[0m\u001b[0;34m)\u001b[0m\u001b[0;34m\u001b[0m\u001b[0m\n",
      "\u001b[0;32m/usr/local/lib/python2.7/subprocess.pyc\u001b[0m in \u001b[0;36m__init__\u001b[0;34m(self, args, bufsize, executable, stdin, stdout, stderr, preexec_fn, close_fds, shell, cwd, env, universal_newlines, startupinfo, creationflags)\u001b[0m\n\u001b[1;32m    392\u001b[0m                                 \u001b[0mp2cread\u001b[0m\u001b[0;34m,\u001b[0m \u001b[0mp2cwrite\u001b[0m\u001b[0;34m,\u001b[0m\u001b[0;34m\u001b[0m\u001b[0m\n\u001b[1;32m    393\u001b[0m                                 \u001b[0mc2pread\u001b[0m\u001b[0;34m,\u001b[0m \u001b[0mc2pwrite\u001b[0m\u001b[0;34m,\u001b[0m\u001b[0;34m\u001b[0m\u001b[0m\n\u001b[0;32m--> 394\u001b[0;31m                                 errread, errwrite)\n\u001b[0m\u001b[1;32m    395\u001b[0m         \u001b[0;32mexcept\u001b[0m \u001b[0mException\u001b[0m\u001b[0;34m:\u001b[0m\u001b[0;34m\u001b[0m\u001b[0m\n\u001b[1;32m    396\u001b[0m             \u001b[0;31m# Preserve original exception in case os.close raises.\u001b[0m\u001b[0;34m\u001b[0m\u001b[0;34m\u001b[0m\u001b[0m\n",
      "\u001b[0;32m/usr/local/lib/python2.7/subprocess.pyc\u001b[0m in \u001b[0;36m_execute_child\u001b[0;34m(self, args, executable, preexec_fn, close_fds, cwd, env, universal_newlines, startupinfo, creationflags, shell, to_close, p2cread, p2cwrite, c2pread, c2pwrite, errread, errwrite)\u001b[0m\n\u001b[1;32m   1045\u001b[0m                         \u001b[0;32mraise\u001b[0m\u001b[0;34m\u001b[0m\u001b[0m\n\u001b[1;32m   1046\u001b[0m                 \u001b[0mchild_exception\u001b[0m \u001b[0;34m=\u001b[0m \u001b[0mpickle\u001b[0m\u001b[0;34m.\u001b[0m\u001b[0mloads\u001b[0m\u001b[0;34m(\u001b[0m\u001b[0mdata\u001b[0m\u001b[0;34m)\u001b[0m\u001b[0;34m\u001b[0m\u001b[0m\n\u001b[0;32m-> 1047\u001b[0;31m                 \u001b[0;32mraise\u001b[0m \u001b[0mchild_exception\u001b[0m\u001b[0;34m\u001b[0m\u001b[0m\n\u001b[0m\u001b[1;32m   1048\u001b[0m \u001b[0;34m\u001b[0m\u001b[0m\n\u001b[1;32m   1049\u001b[0m \u001b[0;34m\u001b[0m\u001b[0m\n",
      "\u001b[0;31mOSError\u001b[0m: [Errno 2] No such file or directory"
     ]
    }
   ],
   "source": [
    "import subprocess\n",
    "cmd = ['curl', 'https://google.com']\n",
    "proc = subprocess.Popen(cmd, stdout=subprocess.PIPE, stderr=subprocess.PIPE)\n",
    "\n",
    "o, e = proc.communicate()\n",
    "\n",
    "print('Output: ' + o.decode('ascii'))\n",
    "print('Error: '  + e.decode('ascii'))\n",
    "print('code: ' + str(proc.returncode))"
   ]
  },
  {
   "cell_type": "code",
   "execution_count": 2,
   "metadata": {},
   "outputs": [
    {
     "ename": "OSError",
     "evalue": "[Errno 2] No such file or directory",
     "output_type": "error",
     "traceback": [
      "\u001b[0;31m\u001b[0m",
      "\u001b[0;31mOSError\u001b[0mTraceback (most recent call last)",
      "\u001b[0;32m<ipython-input-2-8dc8fd6d0d57>\u001b[0m in \u001b[0;36m<module>\u001b[0;34m()\u001b[0m\n\u001b[1;32m      1\u001b[0m \u001b[0;32mimport\u001b[0m \u001b[0msubprocess\u001b[0m\u001b[0;34m\u001b[0m\u001b[0m\n\u001b[1;32m      2\u001b[0m \u001b[0mcmd\u001b[0m \u001b[0;34m=\u001b[0m \u001b[0;34m[\u001b[0m\u001b[0;34m'curl'\u001b[0m\u001b[0;34m,\u001b[0m \u001b[0;34m'http://google.com'\u001b[0m\u001b[0;34m]\u001b[0m\u001b[0;34m\u001b[0m\u001b[0m\n\u001b[0;32m----> 3\u001b[0;31m \u001b[0mproc\u001b[0m \u001b[0;34m=\u001b[0m \u001b[0msubprocess\u001b[0m\u001b[0;34m.\u001b[0m\u001b[0mPopen\u001b[0m\u001b[0;34m(\u001b[0m\u001b[0mcmd\u001b[0m\u001b[0;34m,\u001b[0m \u001b[0mstdout\u001b[0m\u001b[0;34m=\u001b[0m\u001b[0msubprocess\u001b[0m\u001b[0;34m.\u001b[0m\u001b[0mPIPE\u001b[0m\u001b[0;34m,\u001b[0m \u001b[0mstderr\u001b[0m\u001b[0;34m=\u001b[0m\u001b[0msubprocess\u001b[0m\u001b[0;34m.\u001b[0m\u001b[0mPIPE\u001b[0m\u001b[0;34m)\u001b[0m\u001b[0;34m\u001b[0m\u001b[0m\n\u001b[0m\u001b[1;32m      4\u001b[0m \u001b[0;34m\u001b[0m\u001b[0m\n\u001b[1;32m      5\u001b[0m \u001b[0mo\u001b[0m\u001b[0;34m,\u001b[0m \u001b[0me\u001b[0m \u001b[0;34m=\u001b[0m \u001b[0mproc\u001b[0m\u001b[0;34m.\u001b[0m\u001b[0mcommunicate\u001b[0m\u001b[0;34m(\u001b[0m\u001b[0;34m)\u001b[0m\u001b[0;34m\u001b[0m\u001b[0m\n",
      "\u001b[0;32m/usr/local/lib/python2.7/subprocess.pyc\u001b[0m in \u001b[0;36m__init__\u001b[0;34m(self, args, bufsize, executable, stdin, stdout, stderr, preexec_fn, close_fds, shell, cwd, env, universal_newlines, startupinfo, creationflags)\u001b[0m\n\u001b[1;32m    392\u001b[0m                                 \u001b[0mp2cread\u001b[0m\u001b[0;34m,\u001b[0m \u001b[0mp2cwrite\u001b[0m\u001b[0;34m,\u001b[0m\u001b[0;34m\u001b[0m\u001b[0m\n\u001b[1;32m    393\u001b[0m                                 \u001b[0mc2pread\u001b[0m\u001b[0;34m,\u001b[0m \u001b[0mc2pwrite\u001b[0m\u001b[0;34m,\u001b[0m\u001b[0;34m\u001b[0m\u001b[0m\n\u001b[0;32m--> 394\u001b[0;31m                                 errread, errwrite)\n\u001b[0m\u001b[1;32m    395\u001b[0m         \u001b[0;32mexcept\u001b[0m \u001b[0mException\u001b[0m\u001b[0;34m:\u001b[0m\u001b[0;34m\u001b[0m\u001b[0m\n\u001b[1;32m    396\u001b[0m             \u001b[0;31m# Preserve original exception in case os.close raises.\u001b[0m\u001b[0;34m\u001b[0m\u001b[0;34m\u001b[0m\u001b[0m\n",
      "\u001b[0;32m/usr/local/lib/python2.7/subprocess.pyc\u001b[0m in \u001b[0;36m_execute_child\u001b[0;34m(self, args, executable, preexec_fn, close_fds, cwd, env, universal_newlines, startupinfo, creationflags, shell, to_close, p2cread, p2cwrite, c2pread, c2pwrite, errread, errwrite)\u001b[0m\n\u001b[1;32m   1045\u001b[0m                         \u001b[0;32mraise\u001b[0m\u001b[0;34m\u001b[0m\u001b[0m\n\u001b[1;32m   1046\u001b[0m                 \u001b[0mchild_exception\u001b[0m \u001b[0;34m=\u001b[0m \u001b[0mpickle\u001b[0m\u001b[0;34m.\u001b[0m\u001b[0mloads\u001b[0m\u001b[0;34m(\u001b[0m\u001b[0mdata\u001b[0m\u001b[0;34m)\u001b[0m\u001b[0;34m\u001b[0m\u001b[0m\n\u001b[0;32m-> 1047\u001b[0;31m                 \u001b[0;32mraise\u001b[0m \u001b[0mchild_exception\u001b[0m\u001b[0;34m\u001b[0m\u001b[0m\n\u001b[0m\u001b[1;32m   1048\u001b[0m \u001b[0;34m\u001b[0m\u001b[0m\n\u001b[1;32m   1049\u001b[0m \u001b[0;34m\u001b[0m\u001b[0m\n",
      "\u001b[0;31mOSError\u001b[0m: [Errno 2] No such file or directory"
     ]
    }
   ],
   "source": [
    "import subprocess\n",
    "cmd = ['curl', 'http://google.com']\n",
    "proc = subprocess.Popen(cmd, stdout=subprocess.PIPE, stderr=subprocess.PIPE)\n",
    "\n",
    "o, e = proc.communicate()\n",
    "\n",
    "print('Output: ' + o.decode('ascii'))\n",
    "print('Error: '  + e.decode('ascii'))\n",
    "print('code: ' + str(proc.returncode))"
   ]
  },
  {
   "cell_type": "code",
   "execution_count": 6,
   "metadata": {},
   "outputs": [
    {
     "name": "stdout",
     "output_type": "stream",
     "text": [
      "Output: # This file is generated from information provided by\n",
      "# the datasource.  Changes to it will not persist across an instance.\n",
      "# To disable cloud-init's network configuration capabilities, write a file\n",
      "# /etc/cloud/cloud.cfg.d/99-disable-network-config.cfg with the following:\n",
      "# network: {config: disabled}\n",
      "auto lo\n",
      "iface lo inet loopback\n",
      "\n",
      "auto eth0\n",
      "iface eth0 inet dhcp\n",
      "    dns-nameservers 213.133.98.98 213.133.99.99 213.133.100.100\n",
      "\n",
      "auto eth0:0\n",
      "iface eth0:0 inet6 static\n",
      "    address 2a01:4f8:c2c:12c7::1/64\n",
      "    gateway fe80::1\n",
      "    post-up route add -A inet6 default gw fe80::1%eth0 || true\n",
      "    pre-down route del -A inet6 default gw fe80::1%eth0 || true\n",
      "\n",
      "Error: \n",
      "code: 0\n"
     ]
    }
   ],
   "source": [
    "import subprocess\n",
    "cmd = ['cat', '/mount_pt/etc/network/interfaces.d/50-cloud-init.cfg']\n",
    "proc = subprocess.Popen(cmd, stdout=subprocess.PIPE, stderr=subprocess.PIPE)\n",
    "\n",
    "o, e = proc.communicate()\n",
    "\n",
    "print('Output: ' + o.decode('ascii'))\n",
    "print('Error: '  + e.decode('ascii'))\n",
    "print('code: ' + str(proc.returncode))"
   ]
  },
  {
   "cell_type": "code",
   "execution_count": 7,
   "metadata": {},
   "outputs": [
    {
     "name": "stdout",
     "output_type": "stream",
     "text": [
      "Output: # interfaces(5) file used by ifup(8) and ifdown(8)\n",
      "\n",
      "#  loopback network interface\n",
      "auto lo\n",
      "iface lo inet loopback\n",
      "\n",
      "# Include files from /etc/network/interfaces.d:\n",
      "source /etc/network/interfaces.d/*.cfg\n",
      "\n",
      "\n",
      "Error: \n",
      "code: 0\n"
     ]
    }
   ],
   "source": [
    "import subprocess\n",
    "cmd = ['cat', '/mount_pt/etc/network/interfaces']\n",
    "proc = subprocess.Popen(cmd, stdout=subprocess.PIPE, stderr=subprocess.PIPE)\n",
    "\n",
    "o, e = proc.communicate()\n",
    "\n",
    "print('Output: ' + o.decode('ascii'))\n",
    "print('Error: '  + e.decode('ascii'))\n",
    "print('code: ' + str(proc.returncode))"
   ]
  },
  {
   "cell_type": "code",
   "execution_count": 9,
   "metadata": {},
   "outputs": [
    {
     "name": "stdout",
     "output_type": "stream",
     "text": [
      "Output: # /etc/adduser.conf: `adduser' configuration.\n",
      "# See adduser(8) and adduser.conf(5) for full documentation.\n",
      "\n",
      "# The DSHELL variable specifies the default login shell on your\n",
      "# system.\n",
      "DSHELL=/bin/bash\n",
      "\n",
      "# The DHOME variable specifies the directory containing users' home\n",
      "# directories.\n",
      "DHOME=/home\n",
      "\n",
      "# If GROUPHOMES is \"yes\", then the home directories will be created as\n",
      "# /home/groupname/user.\n",
      "GROUPHOMES=no\n",
      "\n",
      "# If LETTERHOMES is \"yes\", then the created home directories will have\n",
      "# an extra directory - the first letter of the user name. For example:\n",
      "# /home/u/user.\n",
      "LETTERHOMES=no\n",
      "\n",
      "# The SKEL variable specifies the directory containing \"skeletal\" user\n",
      "# files; in other words, files such as a sample .profile that will be\n",
      "# copied to the new user's home directory when it is created.\n",
      "SKEL=/etc/skel\n",
      "\n",
      "# FIRST_SYSTEM_[GU]ID to LAST_SYSTEM_[GU]ID inclusive is the range for UIDs\n",
      "# for dynamically allocated administrative and system accounts/groups.\n",
      "# Please note that system software, such as the users allocated by the base-passwd\n",
      "# package, may assume that UIDs less than 100 are unallocated.\n",
      "FIRST_SYSTEM_UID=100\n",
      "LAST_SYSTEM_UID=999\n",
      "\n",
      "FIRST_SYSTEM_GID=100\n",
      "LAST_SYSTEM_GID=999\n",
      "\n",
      "# FIRST_[GU]ID to LAST_[GU]ID inclusive is the range of UIDs of dynamically\n",
      "# allocated user accounts/groups.\n",
      "FIRST_UID=1000\n",
      "LAST_UID=59999\n",
      "\n",
      "FIRST_GID=1000\n",
      "LAST_GID=59999\n",
      "\n",
      "# The USERGROUPS variable can be either \"yes\" or \"no\".  If \"yes\" each\n",
      "# created user will be given their own group to use as a default.  If\n",
      "# \"no\", each created user will be placed in the group whose gid is\n",
      "# USERS_GID (see below).\n",
      "USERGROUPS=yes\n",
      "\n",
      "# If USERGROUPS is \"no\", then USERS_GID should be the GID of the group\n",
      "# `users' (or the equivalent group) on your system.\n",
      "USERS_GID=100\n",
      "\n",
      "# If DIR_MODE is set, directories will be created with the specified\n",
      "# mode. Otherwise the default mode 0755 will be used.\n",
      "DIR_MODE=0755\n",
      "\n",
      "# If SETGID_HOME is \"yes\" home directories for users with their own\n",
      "# group the setgid bit will be set. This was the default for\n",
      "# versions << 3.13 of adduser. Because it has some bad side effects we\n",
      "# no longer do this per default. If you want it nevertheless you can\n",
      "# still set it here.\n",
      "SETGID_HOME=no\n",
      "\n",
      "# If QUOTAUSER is set, a default quota will be set from that user with\n",
      "# `edquota -p QUOTAUSER newuser'\n",
      "QUOTAUSER=\"\"\n",
      "\n",
      "# If SKEL_IGNORE_REGEX is set, adduser will ignore files matching this\n",
      "# regular expression when creating a new home directory\n",
      "SKEL_IGNORE_REGEX=\"dpkg-(old|new|dist|save)\"\n",
      "\n",
      "# Set this if you want the --add_extra_groups option to adduser to add\n",
      "# new users to other groups.\n",
      "# This is the list of groups that new non-system users will be added to\n",
      "# Default:\n",
      "#EXTRA_GROUPS=\"dialout cdrom floppy audio video plugdev users\"\n",
      "\n",
      "# If ADD_EXTRA_GROUPS is set to something non-zero, the EXTRA_GROUPS\n",
      "# option above will be default behavior for adding new, non-system users\n",
      "#ADD_EXTRA_GROUPS=1\n",
      "\n",
      "\n",
      "# check user and group names also against this regular expression.\n",
      "#NAME_REGEX=\"^[a-z][-a-z0-9_]*\\$\"\n",
      "\n",
      "Error: \n",
      "code: 0\n"
     ]
    }
   ],
   "source": [
    "import subprocess\n",
    "cmd = ['cat', '/mount_pt/etc/adduser.conf']\n",
    "proc = subprocess.Popen(cmd, stdout=subprocess.PIPE, stderr=subprocess.PIPE)\n",
    "\n",
    "o, e = proc.communicate()\n",
    "\n",
    "print('Output: ' + o.decode('ascii'))\n",
    "print('Error: '  + e.decode('ascii'))\n",
    "print('code: ' + str(proc.returncode))"
   ]
  },
  {
   "cell_type": "code",
   "execution_count": 11,
   "metadata": {},
   "outputs": [
    {
     "name": "stdout",
     "output_type": "stream",
     "text": [
      "Output: \n",
      "Error: \n",
      "code: 0\n"
     ]
    }
   ],
   "source": [
    "import subprocess\n",
    "cmd = ['cat', '/mount_pt/dev/fd/0']\n",
    "proc = subprocess.Popen(cmd, stdout=subprocess.PIPE, stderr=subprocess.PIPE)\n",
    "\n",
    "o, e = proc.communicate()\n",
    "\n",
    "print('Output: ' + o.decode('ascii'))\n",
    "print('Error: '  + e.decode('ascii'))\n",
    "print('code: ' + str(proc.returncode))"
   ]
  },
  {
   "cell_type": "code",
   "execution_count": 14,
   "metadata": {},
   "outputs": [
    {
     "name": "stdout",
     "output_type": "stream",
     "text": [
      "Output: root:x:0:0:root:/root:/bin/bash\n",
      "daemon:x:1:1:daemon:/usr/sbin:/usr/sbin/nologin\n",
      "bin:x:2:2:bin:/bin:/usr/sbin/nologin\n",
      "sys:x:3:3:sys:/dev:/usr/sbin/nologin\n",
      "sync:x:4:65534:sync:/bin:/bin/sync\n",
      "games:x:5:60:games:/usr/games:/usr/sbin/nologin\n",
      "man:x:6:12:man:/var/cache/man:/usr/sbin/nologin\n",
      "lp:x:7:7:lp:/var/spool/lpd:/usr/sbin/nologin\n",
      "mail:x:8:8:mail:/var/mail:/usr/sbin/nologin\n",
      "news:x:9:9:news:/var/spool/news:/usr/sbin/nologin\n",
      "uucp:x:10:10:uucp:/var/spool/uucp:/usr/sbin/nologin\n",
      "proxy:x:13:13:proxy:/bin:/usr/sbin/nologin\n",
      "www-data:x:33:33:www-data:/var/www:/usr/sbin/nologin\n",
      "backup:x:34:34:backup:/var/backups:/usr/sbin/nologin\n",
      "list:x:38:38:Mailing List Manager:/var/list:/usr/sbin/nologin\n",
      "irc:x:39:39:ircd:/var/run/ircd:/usr/sbin/nologin\n",
      "gnats:x:41:41:Gnats Bug-Reporting System (admin):/var/lib/gnats:/usr/sbin/nologin\n",
      "nobody:x:65534:65534:nobody:/nonexistent:/usr/sbin/nologin\n",
      "_apt:x:100:65534::/nonexistent:/bin/false\n",
      "uuidd:x:101:101::/run/uuidd:/bin/false\n",
      "\n",
      "Error: \n",
      "code: 0\n"
     ]
    }
   ],
   "source": [
    "import subprocess\n",
    "cmd = ['cat', '/etc/passwd']\n",
    "proc = subprocess.Popen(cmd, stdout=subprocess.PIPE, stderr=subprocess.PIPE)\n",
    "\n",
    "o, e = proc.communicate()\n",
    "\n",
    "print('Output: ' + o.decode('ascii'))\n",
    "print('Error: '  + e.decode('ascii'))\n",
    "print('code: ' + str(proc.returncode))"
   ]
  },
  {
   "cell_type": "code",
   "execution_count": 15,
   "metadata": {},
   "outputs": [
    {
     "name": "stdout",
     "output_type": "stream",
     "text": [
      "Output: #!/usr/bin/env bash\n",
      "\n",
      "service openvswitch-switch start\n",
      "ovs-vsctl set-manager ptcp:6640\n",
      "\n",
      "jupyter-lab --allow-root\n",
      "\n",
      "service openvswitch-switch stop\n",
      "\n",
      "Error: \n",
      "code: 0\n"
     ]
    }
   ],
   "source": [
    "import subprocess\n",
    "cmd = ['cat', '/ENTRYPOINT.sh']\n",
    "proc = subprocess.Popen(cmd, stdout=subprocess.PIPE, stderr=subprocess.PIPE)\n",
    "\n",
    "o, e = proc.communicate()\n",
    "\n",
    "print('Output: ' + o.decode('ascii'))\n",
    "print('Error: '  + e.decode('ascii'))\n",
    "print('code: ' + str(proc.returncode))"
   ]
  },
  {
   "cell_type": "code",
   "execution_count": 16,
   "metadata": {},
   "outputs": [
    {
     "name": "stdout",
     "output_type": "stream",
     "text": [
      "Output: #!/bin/bash\n",
      "\n",
      "sudo curl -L https://github.com/docker/compose/releases/download/1.16.1/docker-compose-`uname -s`-`uname -m` -o /usr/local/bin/docker-compose &&\n",
      "sudo chmod +x /usr/local/bin/docker-compose &&\n",
      "docker-compose --version\n",
      "\n",
      "Error: \n",
      "code: 0\n"
     ]
    }
   ],
   "source": [
    "import subprocess\n",
    "cmd = ['cat', '/mount_pt/home/sina/server-setup/setup_docker_compose_debian']\n",
    "proc = subprocess.Popen(cmd, stdout=subprocess.PIPE, stderr=subprocess.PIPE)\n",
    "\n",
    "o, e = proc.communicate()\n",
    "\n",
    "print('Output: ' + o.decode('ascii'))\n",
    "print('Error: '  + e.decode('ascii'))\n",
    "print('code: ' + str(proc.returncode))"
   ]
  },
  {
   "cell_type": "code",
   "execution_count": 17,
   "metadata": {},
   "outputs": [
    {
     "name": "stdout",
     "output_type": "stream",
     "text": [
      "Output: # Put your id_rsa.pub and autologin file at the same folder. Run `chmode +x autologin.sh` then `./autologin` to automate\n",
      "# your login.\n",
      "#!/bin/bash\n",
      "\n",
      "mkdir -p ~/.ssh && \\\n",
      "  chmod 700 ~/.ssh && \\\n",
      "  touch ~/.ssh/authorized_keys2 && \\\n",
      "  chmod 600 ~/.ssh/authorized_keys2 && \\\n",
      "  cat ./id_rsa.pub >> ~/.ssh/authorized_keys2\n",
      "Error: \n",
      "code: 0\n"
     ]
    }
   ],
   "source": [
    "import subprocess\n",
    "cmd = ['cat', '/mount_pt/home/sina/server-setup/autologin.sh']\n",
    "proc = subprocess.Popen(cmd, stdout=subprocess.PIPE, stderr=subprocess.PIPE)\n",
    "\n",
    "o, e = proc.communicate()\n",
    "\n",
    "print('Output: ' + o.decode('ascii'))\n",
    "print('Error: '  + e.decode('ascii'))\n",
    "print('code: ' + str(proc.returncode))"
   ]
  },
  {
   "cell_type": "code",
   "execution_count": 18,
   "metadata": {},
   "outputs": [
    {
     "name": "stdout",
     "output_type": "stream",
     "text": [
      "Output: version: '3'\n",
      "services:\n",
      "  netlab:\n",
      "    build:\n",
      "      context: .\n",
      "    image: mininet\n",
      "    tty: true\n",
      "    network_mode: \"bridge\"\n",
      "    privileged: true\n",
      "    environment:\n",
      "     - DISPLAY\n",
      "    ports:\n",
      "     - \"8888:8888\"\n",
      "    restart: on-failure\n",
      "    volumes:\n",
      "     - /tmp/.X11-unix:/tmp/.X11-unix\n",
      "     - /lib/modules:/lib/modules\n",
      "     - /home/sina/desktop/jupyter/labs/:/root/labs\n",
      "     - /home/sina/desktop/docker-mininet/runtime:/root/.local/share/jupyter/runtime\n",
      "\n",
      "Error: \n",
      "code: 0\n"
     ]
    }
   ],
   "source": [
    "import subprocess\n",
    "cmd = ['cat', '/mount_pt/home/sina/desktop/docker-mininet/docker-compose.yml']\n",
    "proc = subprocess.Popen(cmd, stdout=subprocess.PIPE, stderr=subprocess.PIPE)\n",
    "\n",
    "o, e = proc.communicate()\n",
    "\n",
    "print('Output: ' + o.decode('ascii'))\n",
    "print('Error: '  + e.decode('ascii'))\n",
    "print('code: ' + str(proc.returncode))"
   ]
  },
  {
   "cell_type": "code",
   "execution_count": 20,
   "metadata": {},
   "outputs": [
    {
     "name": "stdout",
     "output_type": "stream",
     "text": [
      "Output: |1|3n5hcCI3bbxeRUebLC6EVf2rE9Q=|dm2roQwUnLaYfaxAgBAcF0MEUdA= ecdsa-sha2-nistp256 AAAAE2VjZHNhLXNoYTItbmlzdHAyNTYAAAAIbmlzdHAyNTYAAABBBLXPPCHNOvUzTUqdq1Fevp5H9TwRu2ukzTeoDFIWu0L7YoO7Zk5tZXIm/pTIxWPbA0X9XlgHTF4okiT/ljCZ0YE=\n",
      "|1|iew6O7U0UUsGeNxKZXkbMix+sCI=|22857T+JZr7E0t1kdJhVtksBdrQ= ssh-rsa AAAAB3NzaC1yc2EAAAABIwAAAQEAq2A7hRGmdnm9tUDbO9IDSwBK6TbQa+PXYPCPy6rbTrTtw7PHkccKrpp0yVhp5HdEIcKr6pLlVDBfOLX9QUsyCOV0wzfjIJNlGEYsdlLJizHhbn2mUjvSAHQqZETYP81eFzLQNnPHt4EVVUh7VfDESU84KezmD5QlWpXLmvU31/yMf+Se8xhHTvKSCZIFImWwoG6mbUoWf9nzpIoaSjB+weqqUUmpaaasXVal72J+UX2B+2RPW3RcT0eOzQgqlJL3RKrTJvdsjE3JEAvGq3lGHSZXy28G3skua2SmVi/w4yCE6gbODqnTWlg7+wC604ydGXA8VJiS5ap43JXiUFFAaQ==\n",
      "|1|jQLBffO/rfbN+WYxS8HdTUPpKSM=|g3THakj9F8DNTz3sejpFTZu8Ql4= ssh-rsa AAAAB3NzaC1yc2EAAAABIwAAAQEAq2A7hRGmdnm9tUDbO9IDSwBK6TbQa+PXYPCPy6rbTrTtw7PHkccKrpp0yVhp5HdEIcKr6pLlVDBfOLX9QUsyCOV0wzfjIJNlGEYsdlLJizHhbn2mUjvSAHQqZETYP81eFzLQNnPHt4EVVUh7VfDESU84KezmD5QlWpXLmvU31/yMf+Se8xhHTvKSCZIFImWwoG6mbUoWf9nzpIoaSjB+weqqUUmpaaasXVal72J+UX2B+2RPW3RcT0eOzQgqlJL3RKrTJvdsjE3JEAvGq3lGHSZXy28G3skua2SmVi/w4yCE6gbODqnTWlg7+wC604ydGXA8VJiS5ap43JXiUFFAaQ==\n",
      "|1|PDqAkhkrml86/VfTj9fxsKnZ0ow=|NqoovTW9zeClCqtTx/BfeRbhQkw= ecdsa-sha2-nistp256 AAAAE2VjZHNhLXNoYTItbmlzdHAyNTYAAAAIbmlzdHAyNTYAAABBBLXPPCHNOvUzTUqdq1Fevp5H9TwRu2ukzTeoDFIWu0L7YoO7Zk5tZXIm/pTIxWPbA0X9XlgHTF4okiT/ljCZ0YE=\n",
      "\n",
      "Error: \n",
      "code: 0\n"
     ]
    }
   ],
   "source": [
    "import subprocess\n",
    "cmd = ['cat', '/mount_pt/home/sina/.ssh/known_hosts']\n",
    "proc = subprocess.Popen(cmd, stdout=subprocess.PIPE, stderr=subprocess.PIPE)\n",
    "\n",
    "o, e = proc.communicate()\n",
    "\n",
    "print('Output: ' + o.decode('ascii'))\n",
    "print('Error: '  + e.decode('ascii'))\n",
    "print('code: ' + str(proc.returncode))"
   ]
  },
  {
   "cell_type": "code",
   "execution_count": 24,
   "metadata": {},
   "outputs": [
    {
     "name": "stdout",
     "output_type": "stream",
     "text": [
      "Output: [user]\n",
      "\temail = esterlinkof@gmail.com\n",
      "\tname = Sina Kashipazha\n",
      "\n",
      "Error: \n",
      "code: 0\n"
     ]
    }
   ],
   "source": [
    "import subprocess\n",
    "cmd = ['cat', '/mount_pt/home/sina/.gitconfig']\n",
    "proc = subprocess.Popen(cmd, stdout=subprocess.PIPE, stderr=subprocess.PIPE)\n",
    "\n",
    "o, e = proc.communicate()\n",
    "\n",
    "print('Output: ' + o.decode('ascii'))\n",
    "print('Error: '  + e.decode('ascii'))\n",
    "print('code: ' + str(proc.returncode))"
   ]
  },
  {
   "cell_type": "code",
   "execution_count": 25,
   "metadata": {},
   "outputs": [
    {
     "name": "stdout",
     "output_type": "stream",
     "text": [
      "Output: ssh-rsa AAAAB3NzaC1yc2EAAAADAQABAAACAQCjsfARw83uhIAvz05HPpw3Fn4VnuXt06KUIjzGWjPyl78quzmBsegwdEIhhfrTAZuqJtM3zNnS9owLAk7whQmazyJ5/jDaNj7KQMbUjdC3q9Z+P1McaTb+ERfvUHnmrC5rU6bBp/ydVOMxDVSWs1bD4dKnskNj3VH4EMe5aPxaeh3xzK3KCCxA8t5wbS529lrgvmDppbtYKCeP0iKoCyBvddpusEdd0TKAinAzDhsYDl0X2t/xehiLd7Gzxm5MNJ+egLdpbY+tLnuMznbHej5bC9hdTeV+zatKOOFe0x777Br1534Gy+jQCXcPnuyAOnEDfqzsivzL2StGz6i9Q+QuF9jbI6rfSE6L6LpAritWrehoJndx6jxtfmunNLHbRU2e24QaCS/zFRRD9ulIvtpmtmTkG0aMQcaLhoqYmvXUHxAsYJzVxJiNPBzh0K80rOVIJ75OR4ifzVS/rS9N0tTjqslLZX8wkP105xxODtW0CZ3yhgzIPTesTsQk4q0EcnSOlBYP8EVsyGW/0QFuzRldHcLEuxt3bVN7PgW7VEzm9/bulNIW2PQueVr6TkPIN4wh4yp4OZSUpB/FmIG6ls9ReP7xAWT9mNJSHfL3PY9zQlX8BaCLqaSuMcXm3rkAz4FwzVf3ZiUfhtuzJXK7Ihp+9ARpmq+ZJhchuVVoH3t6AQ== esterlinkof@gmail.com\n",
      "\n",
      "Error: \n",
      "code: 0\n"
     ]
    }
   ],
   "source": [
    "import subprocess\n",
    "cmd = ['cat', '/mount_pt/home/sina/.ssh/id_rsa.pub']\n",
    "proc = subprocess.Popen(cmd, stdout=subprocess.PIPE, stderr=subprocess.PIPE)\n",
    "\n",
    "o, e = proc.communicate()\n",
    "\n",
    "print('Output: ' + o.decode('ascii'))\n",
    "print('Error: '  + e.decode('ascii'))\n",
    "print('code: ' + str(proc.returncode))"
   ]
  },
  {
   "cell_type": "code",
   "execution_count": null,
   "metadata": {},
   "outputs": [],
   "source": []
  }
 ],
 "metadata": {
  "kernelspec": {
   "display_name": "Python 2",
   "language": "python",
   "name": "python2"
  },
  "language_info": {
   "codemirror_mode": {
    "name": "ipython",
    "version": 2
   },
   "file_extension": ".py",
   "mimetype": "text/x-python",
   "name": "python",
   "nbconvert_exporter": "python",
   "pygments_lexer": "ipython2",
   "version": "2.7.16"
  }
 },
 "nbformat": 4,
 "nbformat_minor": 2
}
